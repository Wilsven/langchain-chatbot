{
 "cells": [
  {
   "cell_type": "code",
   "execution_count": null,
   "metadata": {},
   "outputs": [],
   "source": [
    "# https://github.com/tomasonjo/blogs/blob/master/neo4jdocs/neo4j_support_bot.ipynb\n",
    "# %pip install langchain==0.0.142 openai==0.27.4 beautifulsoup4==4.12.2 chromadb==0.3.21"
   ]
  },
  {
   "cell_type": "code",
   "execution_count": 1,
   "metadata": {},
   "outputs": [
    {
     "data": {
      "text/plain": [
       "True"
      ]
     },
     "execution_count": 1,
     "metadata": {},
     "output_type": "execute_result"
    }
   ],
   "source": [
    "import os\n",
    "import dotenv\n",
    "\n",
    "import requests\n",
    "from bs4 import BeautifulSoup\n",
    "import matplotlib.pyplot as plt\n",
    "import pandas as pd\n",
    "\n",
    "from langchain.document_loaders import (\n",
    "    # GitLoader,\n",
    "    # YoutubeLoader,\n",
    "    # DataFrameLoader,\n",
    "    UnstructuredURLLoader,\n",
    ")\n",
    "from langchain.text_splitter import CharacterTextSplitter\n",
    "\n",
    "import tiktoken\n",
    "\n",
    "# from langchain.schema import Document\n",
    "from langchain.embeddings import OpenAIEmbeddings\n",
    "from langchain.chat_models import ChatOpenAI\n",
    "from langchain.vectorstores import Chroma\n",
    "from langchain.chains import RetrievalQA\n",
    "from langchain.prompts import PromptTemplate\n",
    "from langchain.agents import initialize_agent, Tool\n",
    "\n",
    "from crawl import crawl, clean, strip_content\n",
    "\n",
    "# loads .env file with your OPENAI_API_KEY\n",
    "dotenv.load_dotenv()"
   ]
  },
  {
   "cell_type": "code",
   "execution_count": null,
   "metadata": {},
   "outputs": [],
   "source": [
    "# # Regex pattern to match a URL\n",
    "# HTTP_URL_PATTERN = r\"^http[s]*://.+\"\n",
    "\n",
    "# # Define root domain to crawl\n",
    "# DOMAIN = \"elevate-sg.com\"\n",
    "# FULL_URL = \"https://elevate-sg.com/\""
   ]
  },
  {
   "attachments": {},
   "cell_type": "markdown",
   "metadata": {},
   "source": [
    "### Embedding documents for the first time"
   ]
  },
  {
   "cell_type": "code",
   "execution_count": null,
   "metadata": {},
   "outputs": [],
   "source": [
    "# seen = crawl(FULL_URL, HTTP_URL_PATTERN)\n",
    "# print(len(seen))"
   ]
  },
  {
   "cell_type": "code",
   "execution_count": null,
   "metadata": {},
   "outputs": [],
   "source": [
    "# clean = clean(seen)\n",
    "# print(len(clean))"
   ]
  },
  {
   "cell_type": "code",
   "execution_count": 2,
   "metadata": {},
   "outputs": [
    {
     "name": "stdout",
     "output_type": "stream",
     "text": [
      "6\n"
     ]
    }
   ],
   "source": [
    "# urls = list(clean)\n",
    "\n",
    "urls = [\n",
    "    \"https://elevate-sg.com/\",\n",
    "    \"https://elevate-sg.com/industry\",\n",
    "    \"https://elevate-sg.com/solutions?solutions=Contractors\",\n",
    "    \"https://elevate-sg.com/case-studies\",\n",
    "    \"https://elevate-sg.com/about\",\n",
    "    \"https://elevate-sg.com/careers\",\n",
    "]\n",
    "\n",
    "# Without headers User-Agent, results in forbidden 403\n",
    "loader = UnstructuredURLLoader(urls=urls, headers={\"User-Agent\": \"Mozilla/5.0\"})\n",
    "data = loader.load()\n",
    "print(len(data))"
   ]
  },
  {
   "cell_type": "code",
   "execution_count": 3,
   "metadata": {},
   "outputs": [],
   "source": [
    "for d in data:\n",
    "    new_content = strip_content(d.page_content)\n",
    "    d.page_content = new_content"
   ]
  },
  {
   "cell_type": "code",
   "execution_count": 4,
   "metadata": {},
   "outputs": [
    {
     "name": "stdout",
     "output_type": "stream",
     "text": [
      "11\n"
     ]
    }
   ],
   "source": [
    "# Define text chunk strategy\n",
    "splitter = CharacterTextSplitter(chunk_size=1000, chunk_overlap=100, separator=\" \")\n",
    "# Split documents into chunks\n",
    "data_split = splitter.split_documents(data)\n",
    "print(len(data_split))"
   ]
  },
  {
   "cell_type": "code",
   "execution_count": 5,
   "metadata": {},
   "outputs": [
    {
     "data": {
      "text/plain": [
       "[Document(page_content='Revolutionising the maintenance industry At Elevate Tech, we specialise in innovative predictive maintenance solutions that utilise IoT sensors, real-time data, and advanced A.I/M.L models. Our platform delivers valuable insights that help organisations reduce downtime, improve equipment performance, and optimise maintenance practices. Our commitment to providing our clients with cutting-edge solutions is driven by a deep understanding of the importance of efficient maintenance practices in ensuring cost savings and increased efficiency. Join us in our mission to revolutionise the maintenance industry through the adoption of predictive maintenance solutions. We invite you to get in touch with us to learn more about how our platform can help you optimise your assets and improve your overall maintenance practices. Learn more Reduce breakdowns, longer equipment lifespan and enhanced safety Longer time between maintenance, thereby reducing your maintenance fees\\u200b We offer customised', metadata={'source': 'https://elevate-sg.com/'}),\n",
       " Document(page_content=\"safety Longer time between maintenance, thereby reducing your maintenance fees\\u200b We offer customised quotations for your tailored requirements Elevate Tech's platform Data storage processing & analytics Actionable insights, energy analysis Customers Real time data transfer 24/7 Data capture & edge processing Predictive Maintenance Analytics Learn more Book a demo Book a demo Elevate Tech's focus sectors Vertical transportation sector\\u200b Optimise your lift and escalator assets, higher uptime, lower maintenance time\\u200b Learn more Industry 4.0 sector Lower breakdowns of your assets - be it a factory or a processing plant we have the expertise to help you\\u200b Learn more Stay connected with Elevate Tech Sign up to our newsletter to receive the latest updates, invites to upcoming webinars and events.\\u200b\", metadata={'source': 'https://elevate-sg.com/'}),\n",
       " Document(page_content='Elevate Your Maintenance Practices with Elevate Tech In the era of Industry 4.0, predictive maintenance plays a crucial role in enhancing operational efficiency and reducing equipment downtime. Elevate Tech offers advanced predictive maintenance solutions that harness real-time data and advanced analytics to provide valuable insights into your equipment performance. Our solutions empower you to proactively identify potential issues and implement preventative measures to avoid unexpected equipment failures, leading to optimised maintenance schedules, increased productivity, and enhanced equipment lifespan. Partner with Elevate Tech to revolutionise your maintenance practices and stay ahead in the Industry 4.0 race. Our team of experts will work closely with you to implement customised predictive maintenance solutions that meet your unique requirements and fully leverage the benefits of this transformative technology. Dashboard Overview Elevate Tech’s predictive maintenance solution can', metadata={'source': 'https://elevate-sg.com/industry'}),\n",
       " Document(page_content='transformative technology. Dashboard Overview Elevate Tech’s predictive maintenance solution can be applied to a variety of equipment types, including Industrial machinery and equipment\\u200b Manufacturing processes and production lines\\u200b Power generation and distribution equipment Robotics and automation systems\\u200b Agricultural machinery\\u200b Implementing predictive maintenance within Industry 4.0 can lead to the following results Improved equipment performance and longevity\\u200b Reduced downtime and maintenance costs\\u200b\\u200b Increased productivity and operational efficiency\\u200b\\u200b Better equipment utilisation and resource allocation\\u200b\\u200b Predictive identification of potential issues and failure prevention\\u200b Optimised maintenance schedules and prioritisation of crucial tasks\\u200b\\u200b Enhanced safety and compliance with regulations\\u200b\\u200b Improved asset management and decision making\\u200b\\u200b Better customer satisfaction and improved reputation.\\u200b\\u200b Stay connected with Elevate Tech Sign up to our newsletter to receive the latest', metadata={'source': 'https://elevate-sg.com/industry'}),\n",
       " Document(page_content='reputation.\\u200b\\u200b Stay connected with Elevate Tech Sign up to our newsletter to receive the latest updates, invites to upcoming webinars and events.\\u200b', metadata={'source': 'https://elevate-sg.com/industry'}),\n",
       " Document(page_content='Revolutionise Your Lift Maintenance with Predictive Maintenance Solutions Predictive maintenance represents a transformative approach for lift contractors and building owners. By leveraging real-time data and advanced analytics, you can proactively identify potential issues and prevent equipment breakdowns, reducing downtime and minimising costly repairs. With predictive maintenance, you gain valuable insights into your equipment performance, allowing you to optimise maintenance schedules and prioritise critical tasks. The benefits are clear: improved safety, extended equipment lifespan, and reduced maintenance costs. Elevate your lift maintenance practices and realise the full potential of predictive maintenance solutions. Take the first step towards enhanced equipment performance and reduced costs today. Lift Contractors Building Owners Monitoring and status alerts IoT sensors installed on lift car tops provide continous monitoring of lift status and faults Fault idenfication and', metadata={'source': 'https://elevate-sg.com/solutions?solutions=Contractors'}),\n",
       " Document(page_content=\"on lift car tops provide continous monitoring of lift status and faults Fault idenfication and predictive maintenance Actionable insights to reduce breakdowns Lift and maintenance performance tracking Analysis of lift and maintenance performance trends which allows management to make well informed operational decisions Workflow management dashboard and mobile application Tools designed specifically for the vertical transportation industry, paired with AI and analytics from Elevate Tech's sensor platform Energy usage and wait time optimisation Reduce energy usage and / or wait time People flow analysis Utilise lift data to visualise people movement which allows for the optimisation of people flow within building environments Book a demo Stay connected with Elevate Tech Sign up to our newsletter to receive the latest updates, invites to upcoming webinars and events.\\u200b\", metadata={'source': 'https://elevate-sg.com/solutions?solutions=Contractors'}),\n",
       " Document(page_content='Category All Book a demo Stay connected with Elevate Tech Sign up to our newsletter to receive the latest updates, invites to upcoming webinars and events.\\u200b', metadata={'source': 'https://elevate-sg.com/case-studies'}),\n",
       " Document(page_content='Elevate Tech was established in 2019 with a mission to tackle the challenges faced by the vertical transportation industry and to solve problems that others have not. Issues such as a shortage of skilled labour and a lack of innovation have made the vertical transportation industry inefficient. Our aim is to use technology and data analysis to make the industry 4.0 and vertical transportation industry safer and more efficient, thus reducing operating cost for our customers. We use more data and less hardware to achieve our goals. People & Culture At Elevate Tech, we believe a happy workplace is an inviting workplace, one Diversity of thought We value diverse perspectives because that is how new ideas are formed which allow for complex problems to be solved. Achievement drive Having thoughts is not enough, having the drive to follow through and deliver solutions, without comprising on quality is key to solving problems. Initiative and ownership Put your hand up and take ownership of', metadata={'source': 'https://elevate-sg.com/about'}),\n",
       " Document(page_content='quality is key to solving problems. Initiative and ownership Put your hand up and take ownership of the problems that you want to work on and solve. At the end of the day, it is the unique background, experiences and thoughts of the team that will make Elevate Tech who we are: a company that dares to do the difficult, solve the problems that others will not and change the status quo of predictive maintenance across the industry 4.0 and vertical transportation industries. Work with us Stay connected with Elevate Tech Sign up to our newsletter to receive the latest updates, invites to upcoming webinars and events.\\u200b', metadata={'source': 'https://elevate-sg.com/about'}),\n",
       " Document(page_content='Work with us to use technology and data to optimise the Industry 4.0 and vertical transportation industries. If you believe you can add value to our team but do not see a job opening that fits your skill set or experience, send in your CV. We are always on the lookout for talented individuals, whether you’re a data scientist, developer, marketer, business development, lift/escalator engineer or someone that has a burning desire to affect positive change with data. Work with us', metadata={'source': 'https://elevate-sg.com/careers'})]"
      ]
     },
     "execution_count": 5,
     "metadata": {},
     "output_type": "execute_result"
    }
   ],
   "source": [
    "data_split"
   ]
  },
  {
   "cell_type": "code",
   "execution_count": 6,
   "metadata": {},
   "outputs": [
    {
     "name": "stderr",
     "output_type": "stream",
     "text": [
      "Using embedded DuckDB with persistence: data will be stored in: db\n"
     ]
    }
   ],
   "source": [
    "# # Define embedding model\n",
    "# OPENAI_API_KEY = os.getenv(\"OPENAI_API_KEY\")\n",
    "# embeddings = OpenAIEmbeddings(openai_api_key=OPENAI_API_KEY)\n",
    "\n",
    "# store = Chroma.from_documents(\n",
    "#     data_split, embeddings, collection_name=\"elt\", persist_directory=\"db\"\n",
    "# )\n",
    "\n",
    "# store.persist()\n",
    "# store = None"
   ]
  },
  {
   "attachments": {},
   "cell_type": "markdown",
   "metadata": {},
   "source": [
    "### Chroma DB persisted"
   ]
  },
  {
   "cell_type": "code",
   "execution_count": 8,
   "metadata": {},
   "outputs": [
    {
     "name": "stderr",
     "output_type": "stream",
     "text": [
      "Using embedded DuckDB with persistence: data will be stored in: db\n"
     ]
    },
    {
     "data": {
      "text/plain": [
       "Collection(name=elt)"
      ]
     },
     "execution_count": 8,
     "metadata": {},
     "output_type": "execute_result"
    }
   ],
   "source": [
    "# Define embedding model\n",
    "OPENAI_API_KEY = os.getenv(\"OPENAI_API_KEY\")\n",
    "embeddings = OpenAIEmbeddings(openai_api_key=OPENAI_API_KEY)\n",
    "store = Chroma(\n",
    "    collection_name=\"elt\", persist_directory=\"db\", embedding_function=embeddings\n",
    ")\n",
    "store._collection"
   ]
  },
  {
   "cell_type": "code",
   "execution_count": null,
   "metadata": {},
   "outputs": [],
   "source": []
  }
 ],
 "metadata": {
  "kernelspec": {
   "display_name": "langchain",
   "language": "python",
   "name": "python3"
  },
  "language_info": {
   "codemirror_mode": {
    "name": "ipython",
    "version": 3
   },
   "file_extension": ".py",
   "mimetype": "text/x-python",
   "name": "python",
   "nbconvert_exporter": "python",
   "pygments_lexer": "ipython3",
   "version": "3.10.10"
  },
  "orig_nbformat": 4
 },
 "nbformat": 4,
 "nbformat_minor": 2
}
