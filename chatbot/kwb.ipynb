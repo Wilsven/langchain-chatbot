{
 "cells": [
  {
   "cell_type": "code",
   "execution_count": null,
   "metadata": {},
   "outputs": [],
   "source": [
    "# https://github.com/tomasonjo/blogs/blob/master/neo4jdocs/neo4j_support_bot.ipynb\n",
    "# %pip install langchain==0.0.142 openai==0.27.4 beautifulsoup4==4.12.2 chromadb==0.3.21"
   ]
  },
  {
   "cell_type": "code",
   "execution_count": 1,
   "metadata": {},
   "outputs": [
    {
     "data": {
      "text/plain": [
       "True"
      ]
     },
     "execution_count": 1,
     "metadata": {},
     "output_type": "execute_result"
    }
   ],
   "source": [
    "import os\n",
    "import dotenv\n",
    "\n",
    "# import requests\n",
    "# from bs4 import BeautifulSoup\n",
    "import pandas as pd\n",
    "\n",
    "from langchain.document_loaders import (\n",
    "    # GitLoader,\n",
    "    # YoutubeLoader,\n",
    "    # DataFrameLoader,\n",
    "    SeleniumURLLoader,\n",
    ")\n",
    "from langchain.text_splitter import CharacterTextSplitter\n",
    "\n",
    "# from langchain.schema import Document\n",
    "from langchain.embeddings import OpenAIEmbeddings\n",
    "from langchain.chat_models import ChatOpenAI\n",
    "from langchain.vectorstores import Chroma\n",
    "from langchain.chains import RetrievalQA\n",
    "from langchain.prompts import PromptTemplate\n",
    "from langchain.agents import initialize_agent, Tool\n",
    "\n",
    "# loads .env file with your OPENAI_API_KEY\n",
    "dotenv.load_dotenv()"
   ]
  },
  {
   "attachments": {},
   "cell_type": "markdown",
   "metadata": {},
   "source": [
    "### Embedding documents for the first time"
   ]
  },
  {
   "cell_type": "code",
   "execution_count": null,
   "metadata": {},
   "outputs": [],
   "source": [
    "# urls = [\n",
    "#     \"https://kbw.com.sg/about-us/\",\n",
    "#     \"https://kbw.com.sg/incorporation-locals/\",\n",
    "#     \"https://kbw.com.sg/incorporation-foreigners/\",\n",
    "#     \"https://kbw.com.sg/corp-secretary/\",\n",
    "#     \"https://kbw.com.sg/resources-faqs/\",\n",
    "# ]\n",
    "\n",
    "# loader = SeleniumURLLoader(urls=urls)\n",
    "# data = loader.load()\n",
    "# print(len(data))"
   ]
  },
  {
   "cell_type": "code",
   "execution_count": null,
   "metadata": {},
   "outputs": [],
   "source": [
    "# # Define text chunk strategy\n",
    "# splitter = CharacterTextSplitter(chunk_size=1000, chunk_overlap=200, separator=\" \")\n",
    "# # Split documents into chunks\n",
    "# data_split = splitter.split_documents(data)\n",
    "# print(len(data_split))"
   ]
  },
  {
   "cell_type": "code",
   "execution_count": null,
   "metadata": {},
   "outputs": [],
   "source": [
    "# # Define embedding model\n",
    "# OPENAI_API_KEY = os.getenv(\"OPENAI_API_KEY\")\n",
    "# embeddings = OpenAIEmbeddings(openai_api_key=OPENAI_API_KEY)\n",
    "\n",
    "# store = Chroma.from_documents(\n",
    "#     data_split, embeddings, collection_name=\"kbw\", persist_directory=\"db\"\n",
    "# )\n",
    "\n",
    "# store.persist()\n",
    "# store = None"
   ]
  },
  {
   "attachments": {},
   "cell_type": "markdown",
   "metadata": {},
   "source": [
    "### Chroma DB persisted"
   ]
  },
  {
   "cell_type": "code",
   "execution_count": 2,
   "metadata": {},
   "outputs": [
    {
     "name": "stderr",
     "output_type": "stream",
     "text": [
      "Using embedded DuckDB with persistence: data will be stored in: db\n"
     ]
    },
    {
     "data": {
      "text/plain": [
       "Collection(name=kwb)"
      ]
     },
     "execution_count": 2,
     "metadata": {},
     "output_type": "execute_result"
    }
   ],
   "source": [
    "# Define embedding model\n",
    "OPENAI_API_KEY = os.getenv(\"OPENAI_API_KEY\")\n",
    "embeddings = OpenAIEmbeddings(openai_api_key=OPENAI_API_KEY)\n",
    "store = Chroma(\n",
    "    collection_name=\"kbw\", persist_directory=\"db\", embedding_function=embeddings\n",
    ")\n",
    "store._collection"
   ]
  },
  {
   "cell_type": "code",
   "execution_count": null,
   "metadata": {},
   "outputs": [],
   "source": [
    "# # Delete collection\n",
    "# store.delete_collection()\n",
    "# store.persist()"
   ]
  },
  {
   "cell_type": "code",
   "execution_count": null,
   "metadata": {},
   "outputs": [],
   "source": [
    "# # Lists all collection\n",
    "# store._client.list_collections()"
   ]
  },
  {
   "cell_type": "code",
   "execution_count": 3,
   "metadata": {},
   "outputs": [],
   "source": [
    "llm = ChatOpenAI(\n",
    "    model_name=\"gpt-3.5-turbo\",\n",
    "    temperature=0,\n",
    "    openai_api_key=OPENAI_API_KEY,\n",
    "    max_tokens=512,\n",
    ")"
   ]
  },
  {
   "cell_type": "code",
   "execution_count": 4,
   "metadata": {},
   "outputs": [],
   "source": [
    "sales_template = \"\"\"\n",
    "As a customer marketing bot, your goal is to provide accurate and helpful information about KBW Group, a top professional accounting firm in Singapore.\n",
    "You should answer user inquiries based on the context provided and avoid making up answers.\n",
    "If you don't know the answer, simply state that you don't know.\n",
    "Remember to provide relevant information about how KBW can assist the user through its services, strengths and benefits.\n",
    "\n",
    "{context}\n",
    "=========\n",
    "Question: {question}\n",
    "\"\"\"\n",
    "\n",
    "SALES_PROMPT = PromptTemplate(\n",
    "    template=sales_template, input_variables=[\"context\", \"question\"]\n",
    ")\n",
    "\n",
    "sales_qa = RetrievalQA.from_chain_type(\n",
    "    llm=llm,\n",
    "    chain_type=\"stuff\",\n",
    "    retriever=store.as_retriever(),\n",
    "    chain_type_kwargs={\"prompt\": SALES_PROMPT},\n",
    ")"
   ]
  },
  {
   "cell_type": "code",
   "execution_count": 5,
   "metadata": {},
   "outputs": [
    {
     "name": "stdout",
     "output_type": "stream",
     "text": [
      "KBW Group provides a range of professional accounting and business solutions, including company incorporation, corporate secretarial services, GST and tax advisory, accounting and payroll, external auditing, cloud system implementation, business valuation, and forensic accounting. They aim to provide reliable and innovative solutions to businesses of all sizes and industries, with a focus on client-centric solutions, integrity, innovation, and excellence.\n"
     ]
    }
   ],
   "source": [
    "print(sales_qa.run(\"What does KBW provide?\"))"
   ]
  },
  {
   "cell_type": "code",
   "execution_count": 6,
   "metadata": {},
   "outputs": [],
   "source": [
    "support_template = \"\"\"\n",
    "As a customer support bot, you are here to assist with any issues a user might be facing with their company's accounting, advisory and/or audit.\n",
    "This includes queries regarding the incorporation of a company.\n",
    "Please provide as much detail as possible about the problem, how to solve it, and steps a user should take to fix it.\n",
    "If the provided context doesn't provide enough information, you are allowed to use your knowledge and experience to offer the best possible assistance.\n",
    "\n",
    "{context}\n",
    "=========\n",
    "Question: {question}\n",
    "\"\"\"\n",
    "\n",
    "SUPPORT_PROMPT = PromptTemplate(\n",
    "    template=support_template, input_variables=[\"context\", \"question\"]\n",
    ")\n",
    "\n",
    "support_qa = RetrievalQA.from_chain_type(\n",
    "    llm=llm,\n",
    "    chain_type=\"stuff\",\n",
    "    retriever=store.as_retriever(),\n",
    "    chain_type_kwargs={\"prompt\": SUPPORT_PROMPT},\n",
    ")"
   ]
  },
  {
   "cell_type": "code",
   "execution_count": 7,
   "metadata": {},
   "outputs": [
    {
     "name": "stdout",
     "output_type": "stream",
     "text": [
      "are the steps to incorporate a company in Singapore?\n",
      "1. Choose a company name and check its availability on the ACRA website.\n",
      "2. Prepare the necessary documents, including proof of identification and address for all individuals involved in the company.\n",
      "3. Engage a corporate service provider to act as your company’s corporate secretary.\n",
      "4. Register your company with ACRA and pay the necessary fees.\n",
      "5. Obtain any necessary licenses or permits for your business activities.\n",
      "6. Open a corporate bank account and deposit the required paid-up capital.\n",
      "7. Obtain any necessary visas or work passes for foreign employees.\n",
      "8. Start your business operations.\n"
     ]
    }
   ],
   "source": [
    "print(support_qa.run(\"What do I need to incorporate a company in Singapore?\"))"
   ]
  },
  {
   "cell_type": "code",
   "execution_count": 8,
   "metadata": {},
   "outputs": [
    {
     "name": "stdout",
     "output_type": "stream",
     "text": [
      "How much does it cost to register a company in Singapore?\n",
      "Registering a company in Singapore costs SGD 350, which includes the ACRA registration fee of S$300 and the name application fee of S$15. Additionally, you will need to pay for other services such as a registered office address and corporate secretary, which start from S$240 and S$60 respectively.\n"
     ]
    }
   ],
   "source": [
    "print(support_qa.run(\"How much does it cost?\"))  # Doesn't include memory"
   ]
  },
  {
   "cell_type": "code",
   "execution_count": 9,
   "metadata": {},
   "outputs": [],
   "source": [
    "# the zero-shot-react-description agent will use the \"description\" string to select tools\n",
    "tools = [\n",
    "    Tool(\n",
    "        name=\"sales\",\n",
    "        func=sales_qa.run,\n",
    "        description=\"\"\"\n",
    "        Useful for when a user is interested in KBW information on accounting, advisory and/or auditing services. \n",
    "        A user is not asking for any solutions, but is only interested in general advice of the company, KBW.\n",
    "        Input should be a fully formed question.\n",
    "        \"\"\",\n",
    "    ),\n",
    "    Tool(\n",
    "        name=\"support\",\n",
    "        func=support_qa.run,\n",
    "        description=\"\"\"\n",
    "        Useful for when when a user asks to solve an issue or gets a query answered via\n",
    "        specific instructions on how to accomplish a specified task. \n",
    "        Input should be a fully formed question.\n",
    "        \"\"\",\n",
    "    ),\n",
    "]"
   ]
  },
  {
   "cell_type": "code",
   "execution_count": 10,
   "metadata": {},
   "outputs": [],
   "source": [
    "agent = initialize_agent(tools, llm, agent=\"zero-shot-react-description\", verbose=True)"
   ]
  },
  {
   "cell_type": "code",
   "execution_count": 11,
   "metadata": {},
   "outputs": [
    {
     "name": "stdout",
     "output_type": "stream",
     "text": [
      "\n",
      "\n",
      "\u001b[1m> Entering new AgentExecutor chain...\u001b[0m\n",
      "\u001b[32;1m\u001b[1;3mThe user is asking for specific information on a process, so support may be the best option.\n",
      "Action: support\n",
      "Action Input: \"What are the costs associated with incorporating a company in Singapore?\"\u001b[0m\n",
      "Observation: \u001b[33;1m\u001b[1;3mare the costs associated with incorporating a company in Singapore?\n",
      "\n",
      "The cost of incorporating a company in Singapore is SGD 350, which includes the ACRA registration fee of S$300 and the name application fee of S$15. Additionally, there may be other costs associated with incorporating a company, such as legal fees, accounting fees, and taxes. It is recommended to consult with a professional service provider to get a better understanding of the total costs involved in incorporating a company in Singapore.\u001b[0m\n",
      "Thought:\u001b[32;1m\u001b[1;3mThe user may also be interested in the services KBW offers for incorporating a company, so sales may also be a good option.\n",
      "Action: sales\n",
      "Action Input: \"What services does KBW offer for incorporating a company in Singapore?\"\u001b[0m\n",
      "Observation: \u001b[36;1m\u001b[1;3mKBW Group offers company incorporation services in Singapore. To incorporate a company in Singapore, you will need to take up the following services: corporate secretarial service and corporate tax service. The cost for these services is S$1,500 per year, and a refundable deposit of S$2,000 is required. Additionally, KBW Group offers a nominee director service to fulfill the mandatory requirement for a local director. They work closely with you to ensure that your company is fully compliant with local laws and regulations. For more information or to get started, you can fill in their contact-us form, and their experienced corporate secretary will get in touch with you soon.\u001b[0m\n",
      "Thought:\u001b[32;1m\u001b[1;3mThe user may have follow-up questions about the services offered by KBW, so support may be needed again.\n",
      "Action: support\n",
      "Action Input: \"Can you provide more information about the corporate secretarial service and corporate tax service offered by KBW for incorporating a company in Singapore?\"\u001b[0m\n",
      "Observation: \u001b[33;1m\u001b[1;3mKBW Group offers corporate secretarial and corporate tax services as part of their company incorporation package in Singapore. The corporate secretarial service includes fulfilling the mandatory requirement for a local director by appointing KBW Group as the local nominee director. They work closely with the company to ensure compliance with local laws and regulations. The corporate tax service includes providing advice and professional services to help the business grow. To engage their corporate secretarial service, fill in their contact form, and their experienced corporate secretary will get in touch with you soon. To switch your company secretary, their team will handle the entire process, including reaching out to your current company secretary, and ensure a smooth handover of documents. The cost for their corporate secretarial and corporate tax services is S$1,500 per year, and a refundable deposit of S$2,000 is required.\u001b[0m\n",
      "Thought:\u001b[32;1m\u001b[1;3mThe user may want to know more about the refundable deposit required for the services offered by KBW, so support may be needed again.\n",
      "Action: support\n",
      "Action Input: \"Can you provide more information about the refundable deposit required for the services offered by KBW for incorporating a company in Singapore?\"\u001b[0m\n",
      "Observation: \u001b[33;1m\u001b[1;3mBased on the information provided on the KBW Group website, a refundable deposit of S$2,000 is required for incorporating a company in Singapore. This deposit is to ensure that any outstanding fees or charges are settled before the company is officially incorporated. The deposit will be refunded once all fees and charges have been settled. It is important to note that in addition to the deposit, the company will also need to take up the corporate secretarial service and corporate tax service, which have separate fees of S$1,500 per year. If you have any further questions or concerns, it is recommended to contact KBW Group directly through their website or by phone at +65 6222 0686.\u001b[0m\n",
      "Thought:\u001b[32;1m\u001b[1;3mI now know the final answer.\n",
      "Final Answer: The cost of incorporating a company in Singapore is SGD 350, which includes the ACRA registration fee of S$300 and the name application fee of S$15. KBW Group offers company incorporation services in Singapore, including corporate secretarial and corporate tax services, for a fee of S$1,500 per year and a refundable deposit of S$2,000. The deposit is to ensure that any outstanding fees or charges are settled before the company is officially incorporated, and will be refunded once all fees and charges have been settled. It is recommended to contact KBW Group directly for more information or to get started.\u001b[0m\n",
      "\n",
      "\u001b[1m> Finished chain.\u001b[0m\n"
     ]
    },
    {
     "data": {
      "text/plain": [
       "'The cost of incorporating a company in Singapore is SGD 350, which includes the ACRA registration fee of S$300 and the name application fee of S$15. KBW Group offers company incorporation services in Singapore, including corporate secretarial and corporate tax services, for a fee of S$1,500 per year and a refundable deposit of S$2,000. The deposit is to ensure that any outstanding fees or charges are settled before the company is officially incorporated, and will be refunded once all fees and charges have been settled. It is recommended to contact KBW Group directly for more information or to get started.'"
      ]
     },
     "execution_count": 11,
     "metadata": {},
     "output_type": "execute_result"
    }
   ],
   "source": [
    "agent.run(\n",
    "    \"\"\"What are the costs associated with incorporating a company in Singapore?\"\"\"\n",
    ")"
   ]
  },
  {
   "cell_type": "code",
   "execution_count": null,
   "metadata": {},
   "outputs": [],
   "source": [
    "agent.run(\n",
    "    \"\"\"How can KBW assist my needs?\"\"\"\n",
    ")  # Runs in a loop - needs some termination logic"
   ]
  },
  {
   "cell_type": "code",
   "execution_count": null,
   "metadata": {},
   "outputs": [],
   "source": []
  }
 ],
 "metadata": {
  "kernelspec": {
   "display_name": "langchain",
   "language": "python",
   "name": "python3"
  },
  "language_info": {
   "codemirror_mode": {
    "name": "ipython",
    "version": 3
   },
   "file_extension": ".py",
   "mimetype": "text/x-python",
   "name": "python",
   "nbconvert_exporter": "python",
   "pygments_lexer": "ipython3",
   "version": "3.10.10"
  },
  "orig_nbformat": 4
 },
 "nbformat": 4,
 "nbformat_minor": 2
}
