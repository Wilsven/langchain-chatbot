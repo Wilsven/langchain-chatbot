{
 "cells": [
  {
   "cell_type": "code",
   "execution_count": 1,
   "metadata": {},
   "outputs": [],
   "source": [
    "import os\n",
    "import dotenv\n",
    "import re\n",
    "\n",
    "from langchain.embeddings import OpenAIEmbeddings\n",
    "from langchain.chat_models import ChatOpenAI\n",
    "from langchain.vectorstores import Chroma\n",
    "from langchain.chains import RetrievalQA\n",
    "from langchain.prompts import PromptTemplate\n",
    "from langchain.callbacks.streaming_stdout import StreamingStdOutCallbackHandler"
   ]
  },
  {
   "cell_type": "code",
   "execution_count": 18,
   "metadata": {},
   "outputs": [],
   "source": [
    "COMPANY = \"Contact Out\"\n",
    "PERSONA = None\n",
    "\n",
    "def create_prompt(text: str) -> str:\n",
    "    \"\"\"Create prompt from text file.\"\"\"\n",
    "    joined = \" \".join(text)\n",
    "    prompt = re.sub(r\"\\[COMPANY\\]\", COMPANY, joined)\n",
    "    if PERSONA is not None:\n",
    "        prompt = re.sub(r\"\\[PERSONA\\]\", f\"Speak in the style of {PERSONA}.\", prompt)\n",
    "    else:\n",
    "        prompt = re.sub(r\"\\[PERSONA\\]\", \"\", prompt)\n",
    "    return prompt"
   ]
  },
  {
   "cell_type": "code",
   "execution_count": 19,
   "metadata": {},
   "outputs": [],
   "source": [
    "with open(\"prompt.txt\", \"r\") as f:\n",
    "    text = f.readlines()"
   ]
  },
  {
   "cell_type": "code",
   "execution_count": 20,
   "metadata": {},
   "outputs": [
    {
     "data": {
      "text/plain": [
       "\"As a customer marketing bot, your goal is to provide accurate and helpful information about Contact Out.\\n You should answer user inquiries based on the context provided and avoid making up answers.\\n If you don't know the answer, simply state that you don't know.\\n Remember to provide relevant information about how Contact Out can assist the user through its services, strengths and benefits.\\n \\n \\n \\n {context}\\n =========\\n Question: {question}\""
      ]
     },
     "execution_count": 20,
     "metadata": {},
     "output_type": "execute_result"
    }
   ],
   "source": [
    "create_prompt(text)"
   ]
  },
  {
   "cell_type": "code",
   "execution_count": null,
   "metadata": {},
   "outputs": [],
   "source": [
    "# Define embedding model\n",
    "OPENAI_API_KEY = os.getenv(\"OPENAI_API_KEY\")\n",
    "embeddings = OpenAIEmbeddings(openai_api_key=OPENAI_API_KEY)\n",
    "store = Chroma(\n",
    "    collection_name=\"cto\", persist_directory=\"db\", embedding_function=embeddings\n",
    ")\n",
    "# store = Chroma(persist_directory=\"chatbot/db\", embedding_function=embeddings)\n",
    "store._collection"
   ]
  },
  {
   "cell_type": "code",
   "execution_count": null,
   "metadata": {},
   "outputs": [],
   "source": [
    "# llm = ChatOpenAI(\n",
    "#             streaming=True,\n",
    "#             callbacks=[StreamingStdOutCallbackHandler()],\n",
    "#             model_name=\"gpt-3.5-turbo\",\n",
    "#             temperature=0,\n",
    "#             openai_api_key=OPENAI_API_KEY,\n",
    "#             max_tokens=512,\n",
    "#         )\n",
    "\n",
    "# def create_prompt(text: str, company: str) -> str:\n",
    "#     \"\"\"Create prompt from text file.\"\"\"\n",
    "#     joined = \" \".join(text)\n",
    "#     prompt = re.sub(r\"\\[\\w+\\]\", company, joined)\n",
    "#     return prompt\n",
    "\n",
    "# prompt_template = \"\"\"\n",
    "# As a customer marketing bot, your goal is to provide accurate and helpful information about Contact Out.\n",
    "# You should answer user inquiries based on the context provided and avoid making up answers.\n",
    "# If you don't know the answer, simply state that you don't know.\n",
    "# Remember to provide relevant information about how Contact Out can assist the user through its services, strengths and benefits.\n",
    "\n",
    "\n",
    "# {context}\n",
    "# =========\n",
    "# Question: {question}\n",
    "# \"\"\"\n",
    "\n",
    "# PROMPT = PromptTemplate(\n",
    "#             template=prompt_template, input_variables=[\"context\", \"question\"]\n",
    "#         )\n",
    "\n",
    "# qa = RetrievalQA.from_chain_type(\n",
    "#     llm=llm,\n",
    "#     chain_type=\"stuff\",\n",
    "#     retriever=store.as_retriever(),\n",
    "#     chain_type_kwargs={\"prompt\": PROMPT},\n",
    "# )"
   ]
  },
  {
   "cell_type": "code",
   "execution_count": null,
   "metadata": {},
   "outputs": [],
   "source": [
    "# question = \"Explain what the company does\"\n",
    "# answer = qa(question)"
   ]
  },
  {
   "cell_type": "code",
   "execution_count": null,
   "metadata": {},
   "outputs": [],
   "source": [
    "# answer"
   ]
  },
  {
   "cell_type": "code",
   "execution_count": null,
   "metadata": {},
   "outputs": [],
   "source": [
    "store._client.list_collections()"
   ]
  },
  {
   "cell_type": "code",
   "execution_count": null,
   "metadata": {},
   "outputs": [],
   "source": [
    "# store._client.delete_collection(\"langchain\")"
   ]
  },
  {
   "cell_type": "code",
   "execution_count": null,
   "metadata": {},
   "outputs": [],
   "source": [
    "try:\n",
    "    if store._client.get_collection(\"cto\"):\n",
    "        print(True)\n",
    "except:\n",
    "    print(False)"
   ]
  },
  {
   "cell_type": "code",
   "execution_count": null,
   "metadata": {},
   "outputs": [],
   "source": [
    "store.get()"
   ]
  },
  {
   "cell_type": "code",
   "execution_count": null,
   "metadata": {},
   "outputs": [],
   "source": [
    "if not store.get()[\"documents\"]:\n",
    "    print(\"Empty\")\n",
    "else:\n",
    "    print(\"Not Empty\")"
   ]
  },
  {
   "cell_type": "code",
   "execution_count": null,
   "metadata": {},
   "outputs": [],
   "source": []
  },
  {
   "cell_type": "code",
   "execution_count": null,
   "metadata": {},
   "outputs": [],
   "source": []
  }
 ],
 "metadata": {
  "kernelspec": {
   "display_name": "langchain",
   "language": "python",
   "name": "python3"
  },
  "language_info": {
   "codemirror_mode": {
    "name": "ipython",
    "version": 3
   },
   "file_extension": ".py",
   "mimetype": "text/x-python",
   "name": "python",
   "nbconvert_exporter": "python",
   "pygments_lexer": "ipython3",
   "version": "3.10.10"
  },
  "orig_nbformat": 4
 },
 "nbformat": 4,
 "nbformat_minor": 2
}
