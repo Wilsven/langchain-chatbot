{
 "cells": [
  {
   "cell_type": "code",
   "execution_count": 1,
   "metadata": {},
   "outputs": [],
   "source": [
    "# https://github.com/tomasonjo/blogs/blob/master/neo4jdocs/neo4j_support_bot.ipynb\n",
    "# %pip install langchain==0.0.142 openai==0.27.4 beautifulsoup4==4.12.2 chromadb==0.3.21"
   ]
  },
  {
   "cell_type": "code",
   "execution_count": 2,
   "metadata": {},
   "outputs": [
    {
     "data": {
      "text/plain": [
       "True"
      ]
     },
     "execution_count": 2,
     "metadata": {},
     "output_type": "execute_result"
    }
   ],
   "source": [
    "import os\n",
    "import dotenv\n",
    "\n",
    "import requests\n",
    "from bs4 import BeautifulSoup\n",
    "import matplotlib.pyplot as plt\n",
    "import pandas as pd\n",
    "\n",
    "from langchain.document_loaders import (\n",
    "    # GitLoader,\n",
    "    # YoutubeLoader,\n",
    "    # DataFrameLoader,\n",
    "    UnstructuredURLLoader,\n",
    ")\n",
    "from langchain.text_splitter import CharacterTextSplitter\n",
    "\n",
    "import tiktoken\n",
    "\n",
    "# from langchain.schema import Document\n",
    "from langchain.embeddings import OpenAIEmbeddings\n",
    "from langchain.chat_models import ChatOpenAI\n",
    "from langchain.vectorstores import Chroma\n",
    "from langchain.chains import RetrievalQA\n",
    "from langchain.prompts import PromptTemplate\n",
    "from langchain.agents import initialize_agent, Tool\n",
    "\n",
    "from crawl import crawl, clean, strip_content\n",
    "\n",
    "# loads .env file with your OPENAI_API_KEY\n",
    "dotenv.load_dotenv()"
   ]
  },
  {
   "cell_type": "code",
   "execution_count": 3,
   "metadata": {},
   "outputs": [],
   "source": [
    "# Regex pattern to match a URL\n",
    "HTTP_URL_PATTERN = r\"^http[s]*://.+\"\n",
    "\n",
    "# Define root domain to crawl\n",
    "DOMAIN = \"elliotcommunications.com\"\n",
    "FULL_URL = \"https://elliotcommunications.com\""
   ]
  },
  {
   "attachments": {},
   "cell_type": "markdown",
   "metadata": {},
   "source": [
    "### Embedding documents for the first time"
   ]
  },
  {
   "cell_type": "code",
   "execution_count": 4,
   "metadata": {},
   "outputs": [
    {
     "name": "stdout",
     "output_type": "stream",
     "text": [
      "https://elliotcommunications.com\n",
      "https://elliotcommunications.com/subscribe-to-our-newsletter\n",
      "https://elliotcommunications.com/ourservices\n",
      "https://elliotcommunications.com/case-studies\n",
      "https://elliotcommunications.com/#message\n",
      "https://elliotcommunications.com/contact-us\n",
      "https://elliotcommunications.com/about\n",
      "https://elliotcommunications.com/careers\n",
      "https://elliotcommunications.com/careers/public-relations-intern\n",
      "https://elliotcommunications.com/careers/public-relations-consultant\n",
      "https://elliotcommunications.com/careers/business-development-intern\n",
      "https://elliotcommunications.com/careers/senior-public-relations-manager\n",
      "https://elliotcommunications.com/sg-8-step-checklist-ws\n",
      "HTTP Error 404: Not Found\n",
      "https://elliotcommunications.com/blog\n",
      "https://elliotcommunications.com/myth-busting-101-debunking-popular-pr-publicity-myths\n",
      "https://elliotcommunications.com/category/uncategorized\n",
      "https://elliotcommunications.com/myth-busting-101-debunking-popular-pr-publicity-myths/#respond\n",
      "https://elliotcommunications.com/the-do-or-die-differences-between-public-relations-marketing/#respond\n",
      "https://elliotcommunications.com/press-release-vs-media-pitch-which-one-is-better\n",
      "https://elliotcommunications.com/5-reasons-smes-need-a-spokesperson-to-front-media-interviews\n",
      "https://elliotcommunications.com/so-youve-been-featured-in-the-media-now-what\n",
      "https://elliotcommunications.com/pr-in-the-age-of-social-media-marketing/#respond\n",
      "https://elliotcommunications.com/blog-2\n",
      "https://elliotcommunications.com/blog-2/page/2\n",
      "https://elliotcommunications.com/category/featured\n",
      "https://elliotcommunications.com/am-i-at-the-right-stage-for-pr/#respond\n",
      "https://elliotcommunications.com/am-i-at-the-right-stage-for-pr\n",
      "https://elliotcommunications.com/author/websitebackup2000\n",
      "https://elliotcommunications.com/5-reasons-smes-need-a-spokesperson-to-front-media-interviews/#respond\n",
      "https://elliotcommunications.com/5-reasons-why-you-need-pr-for-your-business/#respond\n",
      "https://elliotcommunications.com/press-release-vs-media-pitch-which-one-is-better/#respond\n",
      "https://elliotcommunications.com/the-do-or-die-differences-between-public-relations-marketing\n",
      "https://elliotcommunications.com/tapping-into-earned-media-6-proven-strategies-for-a-successful-pr-campaign/#respond\n",
      "https://elliotcommunications.com/2023/04/19\n",
      "https://elliotcommunications.com/2023/04\n",
      "https://elliotcommunications.com/2023\n",
      "https://elliotcommunications.com/pr-in-the-age-of-social-media-marketing\n",
      "https://elliotcommunications.com/so-youve-been-featured-in-the-media-now-what/#respond\n",
      "https://elliotcommunications.com/author/allan-ell\n",
      "https://elliotcommunications.com/2023/05/19\n",
      "https://elliotcommunications.com/2023/05\n",
      "https://elliotcommunications.com/2023/04/04\n",
      "https://elliotcommunications.com/beginners-guide-on-public-relations-for-startups-and-smes/#respond\n",
      "https://elliotcommunications.com/5-reasons-why-you-need-pr-for-your-business\n",
      "https://elliotcommunications.com/2022/12/13\n",
      "https://elliotcommunications.com/2022\n",
      "https://elliotcommunications.com/2022/12\n",
      "https://elliotcommunications.com/javascript:void(0);\n",
      "HTTP Error 404: Not Found\n",
      "https://elliotcommunications.com/what-is-public-relations-and-why-is-it-important-for-smes\n",
      "https://elliotcommunications.com/beginners-guide-on-public-relations-for-startups-and-smes\n",
      "https://elliotcommunications.com/tapping-into-earned-media-6-proven-strategies-for-a-successful-pr-campaign\n",
      "https://elliotcommunications.com/what-is-public-relations-and-why-is-it-important-for-smes/#respond\n",
      "52\n"
     ]
    }
   ],
   "source": [
    "seen = crawl(FULL_URL, HTTP_URL_PATTERN)\n",
    "print(len(seen))"
   ]
  },
  {
   "cell_type": "code",
   "execution_count": 5,
   "metadata": {},
   "outputs": [
    {
     "name": "stdout",
     "output_type": "stream",
     "text": [
      "52\n"
     ]
    }
   ],
   "source": [
    "clean = clean(seen)\n",
    "print(len(clean))"
   ]
  },
  {
   "cell_type": "code",
   "execution_count": 6,
   "metadata": {},
   "outputs": [
    {
     "name": "stdout",
     "output_type": "stream",
     "text": [
      "52\n"
     ]
    }
   ],
   "source": [
    "urls = list(seen)\n",
    "\n",
    "# Without headers User-Agent, results in forbidden 403\n",
    "loader = UnstructuredURLLoader(urls=urls, headers={\"User-Agent\": \"Mozilla/5.0\"})\n",
    "data = loader.load()\n",
    "print(len(data))"
   ]
  },
  {
   "cell_type": "code",
   "execution_count": 7,
   "metadata": {},
   "outputs": [],
   "source": [
    "for d in data:\n",
    "    new_content = strip_content(d.page_content)\n",
    "    d.page_content = new_content"
   ]
  },
  {
   "cell_type": "code",
   "execution_count": 8,
   "metadata": {},
   "outputs": [
    {
     "name": "stdout",
     "output_type": "stream",
     "text": [
      "138\n"
     ]
    }
   ],
   "source": [
    "# Define text chunk strategy\n",
    "splitter = CharacterTextSplitter(chunk_size=1000, chunk_overlap=200, separator=\" \")\n",
    "# Split documents into chunks\n",
    "data_split = splitter.split_documents(data)\n",
    "print(len(data_split))"
   ]
  },
  {
   "cell_type": "code",
   "execution_count": 9,
   "metadata": {},
   "outputs": [
    {
     "data": {
      "text/plain": [
       "[Document(page_content='Myth-Busting 101: Debunking Popular PR Publicity Myths May 19, 2023 No Comments As a business owner, how do you keep your stakeholders happy, and ensure positive brand perception among your customers? Well, clearly, you’d think the same Read More » Tapping Into Earned Media: 6 Proven Strategies For A Successful PR Campaign April 19, 2023 No Comments So, you’ve been running a small business for a while now, and you’re wondering, “How can I spice things up and make my brand top-of-mind in Read More » What Is Public Relations, and Why Is It Important for SMEs? April 4, 2023 No Comments Public relations may seem like a redundant move when you’re just starting out in the business world. In fact, some even think PR is no longer relevant Read More »', metadata={'source': 'https://elliotcommunications.com/beginners-guide-on-public-relations-for-startups-and-smes'}),\n",
       " Document(page_content=\"Skip to content Main Menu Home About Our Services Blog Careers Case Studies Contact Us Subscribe Newsletter Home 404 Not Found This page doesn't seem to exist. It looks like the link pointing here was faulty. Maybe try searching? Search for: Copyright © 2023 Elliot Communications\", metadata={'source': 'https://elliotcommunications.com/javascript:void(0);'}),\n",
       " Document(page_content='Business Development Intern Apply Now Singapore We are looking for the next Business Development intern who relishes being the champion of start-ups and small and medium enterprises. You should: ✔️ Enjoy the challenges of helping your lesser-known clients obtain valuable media attention. ✔️ Have a strong command of the English language and are persuasive, creative and resourceful. ✔️ Ideally have an interest in public relations and/or media industry. ✔️ An enthusiasm for entrepreneurship is a strong plus. ✔️ Be a strong self-starter who can work in a highly collaborative and team-oriented environment, but also independently. At Elliot & Co, we operate in a casual office environment, but are very serious about producing high-quality work with unparalleled results. You will be expected to be able to hit the ground running managing our fast-growing clientele and will be expected to pitch in where needed across the board. You will be part of a growing team where our individual job titles', metadata={'source': 'https://elliotcommunications.com/careers/business-development-intern'}),\n",
       " Document(page_content='be able to hit the ground running managing our fast-growing clientele and will be expected to pitch in where needed across the board. You will be part of a growing team where our individual job titles mean little, and quality of work means everything. If you’re keen to learn about the Public Relations industry, look forward to the grind with a positive attitude, and want to gain experience working with SMEs & start-ups, then we want you to join us today! RESPONSIBILITIES Research organisations and individuals online (especially on social media) to identify new leads and potential new markets. Contact potential clients via email or phone to establish rapport and set up meetings for Partnerships Manager. Support new marketing initiatives. Prepare PowerPoint presentations for sales proposals and sales displays. Contact clients to update them about new developments in Elliot & Co’s services and offerings. WHAT YOU NEED TO BE SUCCESSFUL IN THIS ROLE Tech-savvy and have high interest in', metadata={'source': 'https://elliotcommunications.com/careers/business-development-intern'}),\n",
       " Document(page_content='and sales displays. Contact clients to update them about new developments in Elliot & Co’s services and offerings. WHAT YOU NEED TO BE SUCCESSFUL IN THIS ROLE Tech-savvy and have high interest in startups and SMEs and current affairs in Southeast Asia Good knowledge of social media platforms Inquisitive, willing to learn and hungry for knowledge Ability to navigate in an extremely fast-paced working environment Capacity to work well independently and in a team environment Excellent critical thinking and analytical skills Required: – At least 3 months of internship availability, full-time Apply for this Job No file chosen Delete uploaded file No file chosen Delete uploaded file No file chosen Delete uploaded file', metadata={'source': 'https://elliotcommunications.com/careers/business-development-intern'}),\n",
       " Document(page_content='DOING GOOD IS ALWAYS BETTER AMONGST FRIENDS We\\'re Experts in Helping Businesses & Founders Secure Media Features on Newspapers, Magazines, TV, Radio and Internet Platforms. Top Public Relations Agency - Trusted By Over 1,000 Clients Since 2017. Find us on: See Why We Believe In \"Doing Good Every Day\" Every day, Elliot Communications employees work to drive actionable change and ensure people have access to modern solutions. Play Video Open Positions See if there\\'s a position for you - we’re hiring! Business Development Intern Singapore Learn More Public Relations Intern Singapore Hybrid Learn More Senior Public Relations Manager Singapore, Singapore ( Hybrid ) Full Time Learn More Public Relations Consultant Singapore Full Time Learn More Business Development Intern Singapore Learn More Public Relations Intern Singapore Hybrid Learn More Senior Public Relations Manager Singapore, Singapore ( Hybrid ) Full Time Learn More Public Relations Consultant Singapore Full Time Learn More', metadata={'source': 'https://elliotcommunications.com/careers'}),\n",
       " Document(page_content='Public Relations Consultant Apply Now Singapore Full Time Our PR team is looking for its next Public Relations Consultant! At Elliot & Co, we operate in a casual office environment, but are very serious about producing high-quality work with unparalleled results. You will be expected to be able to hit the ground running managing our fast-growing clientele and will be expected to pitch in where needed across the board. You will be part of a growing team where our individual job titles mean little, and quality of work means everything. Our Public Relations Consultant plans and consults client accounts, including strategic media writing to meet business objectives. They are responsible for driving and supporting business and creative workflows. This includes the formulation of PR plans, strategies, media pitching, and related projects for clients. Consultants who perform well will be given the opportunity to explore other business functions, in line with their career interests. Atop that,', metadata={'source': 'https://elliotcommunications.com/careers/public-relations-consultant'}),\n",
       " Document(page_content='media pitching, and related projects for clients. Consultants who perform well will be given the opportunity to explore other business functions, in line with their career interests. Atop that, you can expect to work with a fun team and mentorship from experienced seniors. If you’re the right fit, apply with us today! WHAT YOU GET AS AN ELLIOT & CO. CONSULTANT: Competitive salary package • Hybrid work environment • Medical and welfare benefits • Unique career development and rewards • Training opportunities • A great culture – a place where your growth is priority! • And more! RESPONSIBILITIES Perform day-to-day accounts servicing and client consultancy tasks through close collaboration to achieve campaign objectives • Liaison with the media and influencers via emails, calls and/or messages • Work closely with team members from other departments • Research, write and distribute media content pieces to relevant pool of media such as media pitches, opinion pieces and other written', metadata={'source': 'https://elliotcommunications.com/careers/public-relations-consultant'}),\n",
       " Document(page_content='messages • Work closely with team members from other departments • Research, write and distribute media content pieces to relevant pool of media such as media pitches, opinion pieces and other written materials as required • Support with media monitoring on various platforms, including newspapers, online publications, magazines, broadcasts and social media, for media coverage and opportunities for clients • Prepare coverage tracker and media summary reports • When required, support with media events, media drops, creation of social media assets and liaison with third-party partners for the campaign needs WHAT YOU NEED TO BE SUCCESSFUL IN THIS ROLE Degree/Diploma in Mass Communications, Public Relations, Journalism or equivalent • At least 1-3 years of relevant experience in public relations or communications • Experienced in Technology (FinTech), Lifestyle, Consumer, Start-up environment and familiarity with social media will be an added advantage • Excellent multi-tasking skills with', metadata={'source': 'https://elliotcommunications.com/careers/public-relations-consultant'}),\n",
       " Document(page_content='or communications • Experienced in Technology (FinTech), Lifestyle, Consumer, Start-up environment and familiarity with social media will be an added advantage • Excellent multi-tasking skills with a sense of urgency • Possess strong interpersonal and communication skills, able to interact with employees from all levels • Entrepreneurial spirit! (bonus) • Resourceful, meticulous and independent • Able to work independently and in a team, able to influence stakeholders in cross-functional environment • Self-motivated, trustworthy and able to meet deadlines • Attention to detail, good follow-up/organisational/data analytical skills Apply for this Job No file chosen Delete uploaded file No file chosen Delete uploaded file No file chosen Delete uploaded file', metadata={'source': 'https://elliotcommunications.com/careers/public-relations-consultant'}),\n",
       " Document(page_content='Myth-Busting 101: Debunking Popular PR Publicity Myths Leave a Comment / Uncategorized / By marketing As a business owner, how do you keep your stakeholders happy, and ensure positive brand perception among your customers? Well, clearly, you’d think the same way you would in any relationship — clear, effective communication, the best way to foster a healthy relationship! So what we should ask ourselves next is: how do you effectively … Myth-Busting 101: Debunking Popular PR Publicity Myths Read More » Tapping Into Earned Media: 6 Proven Strategies For A Successful PR Campaign Leave a Comment / Uncategorized / By marketing So, you’ve been running a small business for a while now, and you’re wondering, “How can I spice things up and make my brand top-of-mind in this cutthroat world?”. While it is fundamental to have a great product or service, brands need to create a story so captivating that it stops people in their tracks and … Tapping Into Earned Media: 6 Proven Strategies For A', metadata={'source': 'https://elliotcommunications.com/author/allan-ell'}),\n",
       " Document(page_content='While it is fundamental to have a great product or service, brands need to create a story so captivating that it stops people in their tracks and … Tapping Into Earned Media: 6 Proven Strategies For A Successful PR Campaign Read More »', metadata={'source': 'https://elliotcommunications.com/author/allan-ell'}),\n",
       " Document(page_content='Myth-Busting 101: Debunking Popular PR Publicity Myths May 19, 2023 No Comments As a business owner, how do you keep your stakeholders happy, and ensure positive brand perception among your customers? Well, clearly, you’d think the same Read More » Tapping Into Earned Media: 6 Proven Strategies For A Successful PR Campaign April 19, 2023 No Comments So, you’ve been running a small business for a while now, and you’re wondering, “How can I spice things up and make my brand top-of-mind in Read More » What Is Public Relations, and Why Is It Important for SMEs? April 4, 2023 No Comments Public relations may seem like a redundant move when you’re just starting out in the business world. In fact, some even think PR is no longer relevant Read More »', metadata={'source': 'https://elliotcommunications.com/so-youve-been-featured-in-the-media-now-what/#respond'}),\n",
       " Document(page_content='Myth-Busting 101: Debunking Popular PR Publicity Myths Leave a Comment / Uncategorized / By marketing As a business owner, how do you keep your stakeholders happy, and ensure positive brand perception among your customers? Well, clearly, you’d think the same way you would in any relationship — clear, effective communication, the best way to foster a healthy relationship! So what we should ask ourselves next is: how do you effectively … Myth-Busting 101: Debunking Popular PR Publicity Myths Read More »', metadata={'source': 'https://elliotcommunications.com/2023/05'}),\n",
       " Document(page_content='Myth-Busting 101: Debunking Popular PR Publicity Myths May 19, 2023 No Comments As a business owner, how do you keep your stakeholders happy, and ensure positive brand perception among your customers? Well, clearly, you’d think the same Read More » Tapping Into Earned Media: 6 Proven Strategies For A Successful PR Campaign April 19, 2023 No Comments So, you’ve been running a small business for a while now, and you’re wondering, “How can I spice things up and make my brand top-of-mind in Read More » What Is Public Relations, and Why Is It Important for SMEs? April 4, 2023 No Comments Public relations may seem like a redundant move when you’re just starting out in the business world. In fact, some even think PR is no longer relevant Read More »', metadata={'source': 'https://elliotcommunications.com/pr-in-the-age-of-social-media-marketing'}),\n",
       " Document(page_content='Myth-Busting 101: Debunking Popular PR Publicity Myths May 19, 2023 No Comments As a business owner, how do you keep your stakeholders happy, and ensure positive brand perception among your customers? Well, clearly, you’d think the same Read More » Tapping Into Earned Media: 6 Proven Strategies For A Successful PR Campaign April 19, 2023 No Comments So, you’ve been running a small business for a while now, and you’re wondering, “How can I spice things up and make my brand top-of-mind in Read More » What Is Public Relations, and Why Is It Important for SMEs? April 4, 2023 No Comments Public relations may seem like a redundant move when you’re just starting out in the business world. In fact, some even think PR is no longer relevant Read More »', metadata={'source': 'https://elliotcommunications.com/tapping-into-earned-media-6-proven-strategies-for-a-successful-pr-campaign/#respond'}),\n",
       " Document(page_content='Myth-Busting 101: Debunking Popular PR Publicity Myths May 19, 2023 No Comments As a business owner, how do you keep your stakeholders happy, and ensure positive brand perception among your customers? Well, clearly, you’d think the same Read More » Tapping Into Earned Media: 6 Proven Strategies For A Successful PR Campaign April 19, 2023 No Comments So, you’ve been running a small business for a while now, and you’re wondering, “How can I spice things up and make my brand top-of-mind in Read More » What Is Public Relations, and Why Is It Important for SMEs? April 4, 2023 No Comments Public relations may seem like a redundant move when you’re just starting out in the business world. In fact, some even think PR is no longer relevant Read More »', metadata={'source': 'https://elliotcommunications.com/what-is-public-relations-and-why-is-it-important-for-smes'}),\n",
       " Document(page_content='Watch Capital While the luxury watch market generally appeals to a specific group of individuals, we brought Watch Capital closer to the masses with human-centric stories. For this campaign, we spotlighted the founders: two brothers who juggled their legal studies while building the business, inspired by their father’s love for collecting watches. Being able to put a face (very young faces, actually!) to the brand helped it appeal to younger Singaporeans branching out into the hobby. Watch Capital’s 8-month campaign with Elliot & Co. allowed them to be in trending conversations about the industry, including the business side of collecting — amassing almost 20 million eyeballs across top Singaporean luxury publications like CNA Luxury, The Peak, August Man, The Business Times, and The Edge. CapitaLand Being one of Asia’s largest diversified real estate, CapitaLand partners with Disney to rejuvenate their malls’ lifestyle offerings by curating lifestyle experiences to light up the', metadata={'source': 'https://elliotcommunications.com/case-studies'}),\n",
       " Document(page_content='Edge. CapitaLand Being one of Asia’s largest diversified real estate, CapitaLand partners with Disney to rejuvenate their malls’ lifestyle offerings by curating lifestyle experiences to light up the imagination of shoppers this festive season. This campaign focused on creating excitement towards the Disney-themed celebration “From Our Family To Yours” across 16 CapitaLand malls in Singapore during Christmas 2022 and Chinese New Year 2023. Offering awe-inspiring entertainment and iconic character installations from Disney, Pixar, Star Wars, and Marvel, media, influencers and fans could connect with their favourite characters. Adopting an integrated approach, the Elliot team organised a media and influencer preview event, targeted media pitching, developed media drops and more. With multiple touchpoints in 3 months, the team has secured over 400 mentions on various platforms such as print, broadcast, online and socials, valued at more than S$2.5 million in PR value. HeHealth Focusing on', metadata={'source': 'https://elliotcommunications.com/case-studies'}),\n",
       " Document(page_content='touchpoints in 3 months, the team has secured over 400 mentions on various platforms such as print, broadcast, online and socials, valued at more than S$2.5 million in PR value. HeHealth Focusing on sexual health & wellness, HeHealth is the first of its kind app that provides STD (Sexually Transmitted Disease) care solutions for all penis owners — with instant screening results generated by AI — while remaining completely anonymous. To raise awareness of HeHealth, Elliot & Co. cemented its position in the market as a trusted STD screening app for penis-owners backed by highlighting research studies and efforts to enforce users’ data privacy. Utilising a two-pronged approach, we first announced the app launch, followed by further education in the market with a founder story. In sharing CEO and CTO Dr. Yudara Kularathne’s quest to erase the social stigma attached to men seeking professional treatment for sexually transmitted diseases, we were able to lend a more relatable touch to the', metadata={'source': 'https://elliotcommunications.com/case-studies'}),\n",
       " Document(page_content='and CTO Dr. Yudara Kularathne’s quest to erase the social stigma attached to men seeking professional treatment for sexually transmitted diseases, we were able to lend a more relatable touch to the masses. Over four months, the team successfully secured 84 pieces of media coverage on CNA938, Singapore Stories, Portfolio Magazine, Vulcan Post, Healthcare Asia and many more! Since the first media outreach, HeHealth also received an overwhelming response that upgrading works had to be hastened to keep up with demand. DBCS Since 1985, DBCS has worked to establish a community of practice that embraces design-led innovation as a driver for sustainable growth by forging partnership opportunities between the design and business communities. To further establish itself as a leading design association in driving social impact, DBCS engaged Elliot & Co. in 2021 and 2022 to achieve top-of-mind recall among young aspiring designers and current members. The team highlighted DBCS’s first', metadata={'source': 'https://elliotcommunications.com/case-studies'}),\n",
       " Document(page_content='association in driving social impact, DBCS engaged Elliot & Co. in 2021 and 2022 to achieve top-of-mind recall among young aspiring designers and current members. The team highlighted DBCS’s first collaboration with local ministries for 2022’s Singapore Design Awards (SDA) and SDA Luncheon. It also raised awareness about its initiatives, such as SG Mark, by profiling key spokespeople and showcasing the Grand Winners. This helped secure 78 media features with outlets such as The Straits Times, Lianhe Zaobao, CNA Singapore Tonight, Ch 5 Singapore Business Review, 96.3 好FM and more with 270 billion potential readers. GetGo The growing demand for car-sharing services has prompted GetGo to communicate its mission to the public. They want to empower the community with the freedom to access cars to create a sustainable shared mobility ecosystem. To spread brand awareness about GetGo’s services, Elliot & Co. crafted stories to highlight GetGo’s practicality and sustainability values while', metadata={'source': 'https://elliotcommunications.com/case-studies'}),\n",
       " Document(page_content='cars to create a sustainable shared mobility ecosystem. To spread brand awareness about GetGo’s services, Elliot & Co. crafted stories to highlight GetGo’s practicality and sustainability values while positioning GetGo as the thought leader in the industry. Working with the GetGo team, we garnered 24 media features in a couple of months on publications such as Vulcan Post, Channel 5, Channel 8, MoneySmart, AsiaOne, Berita Harian, and Lianhe Zaobao, with an estimate of 686,784,564 potential readerships. Mölnlycke Mölnlycke, the world-leading medical products and solutions company based in Sweden has its sights set on Malaysia to further its sustainability transformation agenda. Leveraging ongoing conversations on sustainable business practices around the world, we were able to showcase Mölnlycke’s strategic partnerships and centre media attention on the opening launch of its new surgical glove plant in Kulim, Kedah. Our campaign with the Mölnlycke team helped introduce Mölnlycke’s', metadata={'source': 'https://elliotcommunications.com/case-studies'}),\n",
       " Document(page_content='Mölnlycke’s strategic partnerships and centre media attention on the opening launch of its new surgical glove plant in Kulim, Kedah. Our campaign with the Mölnlycke team helped introduce Mölnlycke’s international presence to the Malaysian market, spotlighting the brand’s renewed commitment to helping Malaysia fulfil its sustainable development goals, economic growth, and infrastructure innovation – all while aiming to reach net zero emissions. The timely and relevant story generated buzz within the local media space, successfully securing 43 coverages with a total of 830 million readers! Mölnlycke was featured on notable media publications in Malaysia, including New Straits Times, Astro Awani, Berita Harian, Utusan Malaysia, and Nanyang Siang Pau. Storehub StoreHub’s engagement with Elliot & Co. started a little differently compared to others: with crisis management. Following a targeted media outreach to clarify the case, we took a step back to strategise how we can help the', metadata={'source': 'https://elliotcommunications.com/case-studies'}),\n",
       " Document(page_content='Elliot & Co. started a little differently compared to others: with crisis management. Following a targeted media outreach to clarify the case, we took a step back to strategise how we can help the cybersecurity firm bounce back stronger than before. To do this, we revisited their roots as a local business determined to revolutionise point-of-sales (POS) for even the smallest of merchants. Over 6 months, we rolled out stories about how the brand provided greater accessibility, featuring the launch of StoreHub’s QR Pay Later/At Counter to help F&B merchants digitise more seamlessly, while spotlighting how their innovative POS solution is saving a beloved cornerstone of Malaysian food culture – the mamak! This culminated in a successful fundraising campaign, with over 40 positive media coverages in New Straits Times, Utusan Malaysia, Free Malaysia Today, Borneo Post, Digital News Asia, Vulcan Post, and many more. OYO Hotels Founded by the world’s second youngest self-made billionaire,', metadata={'source': 'https://elliotcommunications.com/case-studies'}),\n",
       " Document(page_content='in New Straits Times, Utusan Malaysia, Free Malaysia Today, Borneo Post, Digital News Asia, Vulcan Post, and many more. OYO Hotels Founded by the world’s second youngest self-made billionaire, India-based budget hotel group OYO embarked on its first foray into the foreign market through its expansion into Malaysia in 2015. Tapping into its wealth of experience as a household name for budget stays, the Elliot team was able to bring their insights into the industry to the masses through well-researched opinion pieces. In line with the pandemic recovery, we were able to underline OYO’s influence on domestic tourism as one of the leading hospitality tech player in Malaysia through leadership and trendjacking stories about the tourism economy, tech innovation, empowerment of local hoteliers and more. And we’re glad that OYO’s influence and efforts are now known to the masses, with their campaign garnering a total of 58 media features that amounted to over RM 2.1 million in PR value.', metadata={'source': 'https://elliotcommunications.com/case-studies'}),\n",
       " Document(page_content='and more. And we’re glad that OYO’s influence and efforts are now known to the masses, with their campaign garnering a total of 58 media features that amounted to over RM 2.1 million in PR value. Coverage highlights include New Straits Times, Bernama, The Star, The Sun and The Business Times. MyTukar First established in 2018 with a mission to get Malaysians to tukar (change) their cars sustainably, myTukar is a one-stop online car marketplace that needs no introduction. The myTukar team reached out to Elliot & Co. mid-2021 to cement its position as the leading player in the used car market and to achieve top-of-mind recall among customers and automotive businesses. With that began the start of a fruitful partnership with the Elliot team as we executed an integrated campaign that became one of our most successful ones yet – with over 250 media features and a total readership of over 820 million to date! Beyond trade and specialised automotive publications like Top Gear and PaulTan, the', metadata={'source': 'https://elliotcommunications.com/case-studies'}),\n",
       " Document(page_content='of our most successful ones yet – with over 250 media features and a total readership of over 820 million to date! Beyond trade and specialised automotive publications like Top Gear and PaulTan, the Elliot team helped secure repeated mentions for myTukar across top-tier Malaysian publications like The Star, New Straits Times, Business Today, The Edge, Berita Harian, China Press, Sin Chew Daily, Astro Awani and more. And that barely scratches the surface of our work with myTukar! Spanning 27 stories and activations for their showroom openings, auto-fairs, and key opinion pieces that have amplified its value and expertise in the market by positioning its CEO as a leader in the automotive space, further strengthening myTukar’s working relationship with local media outlets. Gagasan Solar To many, solar tech might seem like a far-away dream – but not for Gagasan Solar, who is already making inroads as the first solar fund to be regulated by the Securities Commission! Through a campaign', metadata={'source': 'https://elliotcommunications.com/case-studies'}),\n",
       " Document(page_content='To many, solar tech might seem like a far-away dream – but not for Gagasan Solar, who is already making inroads as the first solar fund to be regulated by the Securities Commission! Through a campaign spotlighting their groundbreaking work, the Elliot team helped bring that bright future (pun fully intended) a little closer to the minds of everyday Malaysians. Adopting a softer approach to its first introduction to the public, we spotlighted the founders and their mission to making solar energy more accessible to businesses beyond large corporations. Highlighting Gagasan Solar’s work, including its fundraising efforts to further solar usage among SMEs and its strategic partnership with other industry leaders, our team was able to shed light on how Gagasan is helping to lower the barriers to solar tech, preparing businesses for a sustainability-first future. Won over by their burning dedication to bridging the gap in Malaysia’s solar industry, some of Malaysia’s biggest news', metadata={'source': 'https://elliotcommunications.com/case-studies'}),\n",
       " Document(page_content='barriers to solar tech, preparing businesses for a sustainability-first future. Won over by their burning dedication to bridging the gap in Malaysia’s solar industry, some of Malaysia’s biggest news publications ran 47 features for Gagasan Solar – namely The Star, The Edge, Astro Awani, Berita Harian, and BFM 89.9. Cloversoft Committed to creating and producing toxin-free and eco-friendly daily consumables for sustainable living at an affordable price — we couldn’t wait to get the word out about Cloversoft! Angle 1 covered a funding announcement, highlighting its achievements and accolades since its launch. Also featured Cloversoft’s future expansion plans and developments moving forward, which helped to build the organisation’s media credibility. Angle 2, on the other hand, took a softer approach for readers getting to know the brand — with a founder story featuring the personal and professional journey of Cloversoft founders Angela and Lynn. This angle, in particular, focused on', metadata={'source': 'https://elliotcommunications.com/case-studies'}),\n",
       " Document(page_content='approach for readers getting to know the brand — with a founder story featuring the personal and professional journey of Cloversoft founders Angela and Lynn. This angle, in particular, focused on their experiences as female entrepreneurs seeking to positively impact the environment — the better for readers to understand Cloversoft’s relevance and vision. With the two angles, the Elliot team impacted a potential of 128 million readers with 33 pieces of coverage from notable publications such as The Business Times, DealStreetAsia, Singapore Business Review, Vulcan Post, Lianhe Zaobao, Nikkei Asia, The Peak Singapore, The Straits Times, The Singapore Women’s Weekly, Her World Singapore and many more. Heartlands Festival Celebrating the beating heart(lands) of Singapore’s economy, the Elliot team ran an integrated campaign for the inaugural Heartlands Festival. This large-scale event was supported by the Federation of Merchants’ Associations Singapore and Enterprise Singapore. To', metadata={'source': 'https://elliotcommunications.com/case-studies'}),\n",
       " Document(page_content='Elliot team ran an integrated campaign for the inaugural Heartlands Festival. This large-scale event was supported by the Federation of Merchants’ Associations Singapore and Enterprise Singapore. To complement its grand launch, we also wove together profile stories showcasing the generations of heartland merchants and hawkers who successfully digitised through the trying times of COVID-19. Their inspiring stories won over the hearts of many, as did our proactive media outreaches to position the heartlands as the go-to place for quality time with family and friends. As a result, we were able to secure repeated features for the Heartlands Festival in publications like Straits Times, Lianhe Zaobao, CNA, CNA938, and MONEYFM — for almost 100 media mentions in just 4 months! Rocket Academy Singapore-based online coding boot camp, Rocket Academy, focuses on teaching concepts in popular coding scripts such as javascript, Python, and SQL. A returning client, Rocket Academy’s main aim in', metadata={'source': 'https://elliotcommunications.com/case-studies'}),\n",
       " Document(page_content='Singapore-based online coding boot camp, Rocket Academy, focuses on teaching concepts in popular coding scripts such as javascript, Python, and SQL. A returning client, Rocket Academy’s main aim in engaging Elliot & Co. was to build the profile of Rocket Academy and its founder, Kai Yuan. In doing so, the Elliot team amplified the brand’s credibility and top-of-mind recall by strengthening its media presence and building a strong voice in the industry. A multi-angle approach proved to be the way forward in effectively providing coverage for Rocket Academy. First, the team focused on Kai’s experiences and successes of Rocket Academy’s graduates in securing jobs and profiled key members of the Rocket Academy team. Subsequently, highlighted women in tech and trend jacked, to name a few, to put them in the media’s line of sight. In totality, 28 media features were secured with outlets such as Lianhe Zaobao, CNA938, MONEY FM 89.3, The Smart Local, DigiconAsia, PORTFOLIO, Vulcan Post,', metadata={'source': 'https://elliotcommunications.com/case-studies'}),\n",
       " Document(page_content='to put them in the media’s line of sight. In totality, 28 media features were secured with outlets such as Lianhe Zaobao, CNA938, MONEY FM 89.3, The Smart Local, DigiconAsia, PORTFOLIO, Vulcan Post, Esquire and more. ShopBack Having proliferated from a team of six to over 900 staff, ShopBack has a singular mission: to make the shopping process as rewarding, delightful, and accessible as possible. The Elliot team worked hard to position ShopBack as Asia Pacific’s leading shopping and rewards platform over a three-angle campaign that took Singaporeans for a ride — literally! Right after the platform’s cashless ShopBack Pay feature launched, we pulled a good-natured April Fool’s prank: giving away Land Rovers (or rather, toy models of it). This acted as the springboard for the actual “reveal”, the grand opening of ShopBack’s new headquarters in Pasir Panjang. Securing an impressive 141 pieces of coverage, the brand received love from notable names such as Tech in Asia, The Straits Times,', metadata={'source': 'https://elliotcommunications.com/case-studies'}),\n",
       " Document(page_content='the grand opening of ShopBack’s new headquarters in Pasir Panjang. Securing an impressive 141 pieces of coverage, the brand received love from notable names such as Tech in Asia, The Straits Times, Mothership, CNA, Channel 8 and more — garnering a readership total of 2.7 billion over just 5 months. ChopValue ChopValue’s emphasis on environmental responsibility and its beginnings as a sustainable solution provider resonated in a big way with the general public, especially with how we introduced it to the masses: with a founder’s story spotlighting a doting eco-mum-preneur of three. This human touch helped set the centre stage of the media’s interest in ChopValue’s launch of its first regional micro-factory. Making carbon-neutral interior design options more accessible to the growing population of green-first Singaporeans, this story endeared the brand to a wide range of media. From mainstream publications like CNA (Women, Singapore Desk, and Asia First sections), The Straits Times,', metadata={'source': 'https://elliotcommunications.com/case-studies'}),\n",
       " Document(page_content='of green-first Singaporeans, this story endeared the brand to a wide range of media. From mainstream publications like CNA (Women, Singapore Desk, and Asia First sections), The Straits Times, Channel 5, Channel 8, and Shin Min Daily News to specialised outlets like Lookbox Living and Home & Decor, securing over 20 features and 3 million readers in total. MRANTI GAP A rich business landscape brimming with potential, Malaysia is undoubtedly a hotspot for entrepreneurs. And this is exactly what MRANTI, a startup incubator and accelerator wants to help local businesses tap into. Working closely with the MRANTI team, our campaign showcased MRANTI’s key initiatives – one of which is the Global Accelerator Programme (GAP) – a cross-continent thematic programme that helps prime participating companies across Malaysia, Singapore, the United Kingdom, and Russia for investors’ interest. Leveraging a multi-angle approach to cover the full breadth of MRANTI’s works and spotlight its robust working', metadata={'source': 'https://elliotcommunications.com/case-studies'}),\n",
       " Document(page_content='across Malaysia, Singapore, the United Kingdom, and Russia for investors’ interest. Leveraging a multi-angle approach to cover the full breadth of MRANTI’s works and spotlight its robust working relationship with the Ministry of Science, Technology, and Innovation (MOSTI) and alumni through testimonials, we were able to help position MRANTI as the up and coming business incubator to the media. And it’s a thrill to see their works come to fruition! The team’s features across publications such as New Straits Times and Malaysian Business reached a total of 31 million readers – with more to come over the course of this ongoing campaign! Yeshan Sarees Thoughtfully built with a passion for the timeless beauty of Indian heritage and textiles, Yeshan Sarees is a local ethnic Indian fashion house that spotlights traditional artisanal craftsmanship. Helping the team take their next step into their biggest venture yet, the Elliot team helped spread the word about the launch of their luxurious', metadata={'source': 'https://elliotcommunications.com/case-studies'}),\n",
       " Document(page_content='that spotlights traditional artisanal craftsmanship. Helping the team take their next step into their biggest venture yet, the Elliot team helped spread the word about the launch of their luxurious flagship store in Pavilion Bukit Jalil to the media and their audiences. Aside from showcasing the detailed stonework and handpainted art of the new space, and spotlighting their bespoke bridal and evening wear brand specialising in intricate embroidery in our stories to the media, The Elliot team also supported their grand opening event accompanied by a glitzy fashion show! As a result, we were able to land exclusive features for Yeshan Sarees in mainstream and prominent fashion publications, including The Star, New Straits Times, Rojak Daily, Tatler, Varnam, First Classe, Lipstiq and Diva.my, amassing over 48 million readers in total. On top of that, Yeshan Sarees was also featured on TV3’s prime time segment Wanita Hari Ini during their Deepavali special episode. Pasadena Burgers Bringing', metadata={'source': 'https://elliotcommunications.com/case-studies'}),\n",
       " Document(page_content='amassing over 48 million readers in total. On top of that, Yeshan Sarees was also featured on TV3’s prime time segment Wanita Hari Ini during their Deepavali special episode. Pasadena Burgers Bringing West Coast flavours to Malaysian shores, Pasadena Burgers specialises in meaty Californian burgers with a twist: dipping burgers to satisfy the Malaysian love for cheese meleleh. While the brand was initially a delivery-only enterprise, its clientele’s growing demand for dine-in options encouraged Pasadena Burgers to open up just as Malaysia did – and that’s where the Elliot team came in! We invited the media to cook up a storm at the brand’s first experiential tasting event with Pasadena’s new dine-in partner, local restaurateurs Cheers2Cheers. Building on the hype generated from this exclusive collaboration, the Elliot team supported with the launch of a DIY burger kit perfect for kitchen-savvy foodies who wanted to replicate the cheesy gourmet burger in their own homes. Within months,', metadata={'source': 'https://elliotcommunications.com/case-studies'}),\n",
       " Document(page_content='collaboration, the Elliot team supported with the launch of a DIY burger kit perfect for kitchen-savvy foodies who wanted to replicate the cheesy gourmet burger in their own homes. Within months, Pasadena Burgers caught the attention of numerous lifestyle and food-related publications, playing a major role in landing features across 60 media outlets with a total readership of 49 million. This included features on The Star, Prestige Online, Buro 24/7, Vulcan Post, Coconuts KL, and more! Clea Established during the pandemic, CLEA understood that remote, mobile accessibility is now becoming the way forward – so why not apply that to COVID-19 tests too? Through a four-angle campaign executed at the height of the pandemic, the Elliot team leveraged stories human and product-centric stories that helped position CLEA as the first telemedicine platform to pioneer professional RTK tests and virtual COVID-19 screenings (VCS) in Malaysia. Riding on the momentum of CLEA’s successful introduction', metadata={'source': 'https://elliotcommunications.com/case-studies'}),\n",
       " Document(page_content='helped position CLEA as the first telemedicine platform to pioneer professional RTK tests and virtual COVID-19 screenings (VCS) in Malaysia. Riding on the momentum of CLEA’s successful introduction to the market, we also struck up media conversations about how CLEA is looking beyond COVID-19 to apply their services to future transmissible diseases and outbreaks. Coupled with media drops for CLEA’s COVID-19 testing kits and its mobile app tokens, the Elliot team helped to secure multiple interviews for the brand’s founder, Dr. Chan Hai Feng, with a total of 42 features across top publications like The Edge, The Sun Daily, Utusan Malaysia, and BFM 89.9. Proficient While Proficient is a true pioneer in construction management software, communicating what they do to the public posed challenges — niche B2B offerings often come with convoluted technicalities and industry jargons. But this also presented Proficient with the opportunity to re-create their approach to the media, which we took', metadata={'source': 'https://elliotcommunications.com/case-studies'}),\n",
       " Document(page_content='— niche B2B offerings often come with convoluted technicalities and industry jargons. But this also presented Proficient with the opportunity to re-create their approach to the media, which we took to own hands by customaising a well-paced and strategic approach to brand storytelling, leveraging expert opinion features and their recent successful seed funding round to spotlight the potential of Proficient and bolster credibility of the brand in the eyes of the masses. In less than 8 months, the Elliot team managed to help Proficient secure 38 media features across notable media outlets including The Edge Markets, The Star, New Straits Times, Utusan Malaysia, and more with 38 million potential readers. Secure Your Free 1-to-1 Consultation Where We Will Share With You the Secrets to Getting Your Business Featured in the Media Your Business Name Your Name Your Email Country Contact Number (Optional) When’s a good time for our PR expert to reach you? (Optional) Message Book Your 1-to-1', metadata={'source': 'https://elliotcommunications.com/case-studies'}),\n",
       " Document(page_content='Your Business Featured in the Media Your Business Name Your Name Your Email Country Contact Number (Optional) When’s a good time for our PR expert to reach you? (Optional) Message Book Your 1-to-1 Free Consultation Now The Elliot Experience Here\\'s What Our Clients Have To Say \"Elliot & Co, led by Jeremy and his team are Lincoln Yin CEO, RootAnt Sam Lee Partner & Co-Founder, Paloe \"It\\'s been a Rui Shan Chin Director, Gooberr \"To the team at Elliot Communications: Dalston Pung COO, QIQ Global “The team has been Joeanne Wong General Manager, Can-Care \"We have worked with Elliot & Co. for more than a year. They have a Chang Yi Hern CEO, JomRun Previous image Next image GENIEBOOK Geniebook was able to establish its presence as one of Singapore’s leading EduTech companies with 15 features in relevant media platforms. During the COVID-19 crisis, Geniebook’s position was further solidified with timely media coverage about its efforts to help families and children during the Circuit Breaker', metadata={'source': 'https://elliotcommunications.com/case-studies'}),\n",
       " Document(page_content='relevant media platforms. During the COVID-19 crisis, Geniebook’s position was further solidified with timely media coverage about its efforts to help families and children during the Circuit Breaker period. INDUSTRY Construction – Reconstruction and restoration LOCATION Chico – California EMPLOYES 101-350 SOLUTION BambooHR, BambooHR Performance Management, BambooHR Payroll, BambooHR Time Tracking TADA Securing 68 media features, the campaign was hugely successful at increasing awareness of TADA’s launch and its unique selling propositions compared to its competitors. Driver sign-ups for TADA increased 900% during the campaign, resulting in 9500 sign-ups by the end of the campaign, surpassing the initial business goal of 4000. This also gave them the impetus in expanding their business to the rest of Southeast Asia. INDUSTRY Construction – Reconstruction and restoration LOCATION Chico – California EMPLOYES 101-350 SOLUTION BambooHR, BambooHR Performance Management, BambooHR Payroll,', metadata={'source': 'https://elliotcommunications.com/case-studies'}),\n",
       " Document(page_content='to the rest of Southeast Asia. INDUSTRY Construction – Reconstruction and restoration LOCATION Chico – California EMPLOYES 101-350 SOLUTION BambooHR, BambooHR Performance Management, BambooHR Payroll, BambooHR Time Tracking ARTISAN GREEN Securing features on top-tier media in Singapore such as Men’s Folio, CNA 938 and Channel News Asia, the campaign generated brand awareness on Artisan Green’s locally farmed baby spinach. The campaign also positioned Artisan Green as a solution for Singapore to strengthen and maintain food security in the long-term. INDUSTRY Construction – Reconstruction and restoration LOCATION Chico – California EMPLOYES 101-350 SOLUTION BambooHR, BambooHR Performance Management, BambooHR Payroll, BambooHR Time Tracking PRIMECH Following 15 media features in mainstream media platforms, Primech’s facility services gained prominence in the cleaning industry. We identified compelling stories about their founder, employees and core beliefs, which led to the success of', metadata={'source': 'https://elliotcommunications.com/case-studies'}),\n",
       " Document(page_content='media platforms, Primech’s facility services gained prominence in the cleaning industry. We identified compelling stories about their founder, employees and core beliefs, which led to the success of the campaign. They continued to build on their expertise in the field with appearances in the media as a service provider during COVID-19. INDUSTRY Construction – Reconstruction and restoration LOCATION Chico – California EMPLOYES 101-350 SOLUTION BambooHR, BambooHR Performance Management, BambooHR Payroll, BambooHR Time Tracking GTRIIP With 18 media features and counting, GTRIIP has been successfully established as a forerunner in the contactless hotel check-in scene. Contactless hotel check-in solutions have become increasingly popular and were made even more important during the pandemic. Since it had not been talked about much in the media before, GTRIIP’s proposal was well-received for its novelty. INDUSTRY Construction – Reconstruction and restoration LOCATION Chico – California', metadata={'source': 'https://elliotcommunications.com/case-studies'}),\n",
       " Document(page_content='Since it had not been talked about much in the media before, GTRIIP’s proposal was well-received for its novelty. INDUSTRY Construction – Reconstruction and restoration LOCATION Chico – California EMPLOYES 101-350 SOLUTION BambooHR, BambooHR Performance Management, BambooHR Payroll, BambooHR Time Tracking WATCH CAPITAL Luxury watches are a niche market that can be quite removed from everyday Singaporeans, so we brought Watch Capital closer to the masses with people-centric stories. Throughout the campaign, we humanised the brand by spotlighting the founders: two brothers who juggled their legal studies while building the business, inspired by their father’s love for collecting watches. Being able to put a face (very young faces, actually!) to the brand helped it appeal to younger Singaporeans branching out into the hobby. Watch Capital’s 8-month campaign with Elliot & Co. saw them being featured in trending conversations about the industry, including the business side of collecting —', metadata={'source': 'https://elliotcommunications.com/case-studies'}),\n",
       " Document(page_content='branching out into the hobby. Watch Capital’s 8-month campaign with Elliot & Co. saw them being featured in trending conversations about the industry, including the business side of collecting — amassing almost 20 million eyeballs across top Singaporean luxury publications like CNA Luxury, The Peak, August Man, The Business Times, and The Edge. INDUSTRY Construction – Reconstruction and restoration LOCATION Chico – California EMPLOYES 101-350 SOLUTION BambooHR, BambooHR Performance Management, BambooHR Payroll, BambooHR Time Tracking', metadata={'source': 'https://elliotcommunications.com/case-studies'}),\n",
       " Document(page_content='Myth-Busting 101: Debunking Popular PR Publicity Myths Leave a Comment / Uncategorized / By marketing As a business owner, how do you keep your stakeholders happy, and ensure positive brand perception among your customers? Well, clearly, you’d think the same way you would in any relationship — clear, effective communication, the best way to foster a healthy relationship! So what we should ask ourselves next is: how do you effectively … Myth-Busting 101: Debunking Popular PR Publicity Myths Read More »', metadata={'source': 'https://elliotcommunications.com/2023/05/19'}),\n",
       " Document(page_content='Myth-Busting 101: Debunking Popular PR Publicity Myths May 19, 2023 No Comments As a business owner, how do you keep your stakeholders happy, and ensure positive brand perception among your customers? Well, clearly, you’d think the same Read More » Tapping Into Earned Media: 6 Proven Strategies For A Successful PR Campaign April 19, 2023 No Comments So, you’ve been running a small business for a while now, and you’re wondering, “How can I spice things up and make my brand top-of-mind in Read More » What Is Public Relations, and Why Is It Important for SMEs? April 4, 2023 No Comments Public relations may seem like a redundant move when you’re just starting out in the business world. In fact, some even think PR is no longer relevant Read More »', metadata={'source': 'https://elliotcommunications.com/am-i-at-the-right-stage-for-pr'}),\n",
       " Document(page_content='Myth-Busting 101: Debunking Popular PR Publicity Myths May 19, 2023 No Comments As a business owner, how do you keep your stakeholders happy, and ensure positive brand perception among your customers? Well, clearly, you’d think the same Read More » Tapping Into Earned Media: 6 Proven Strategies For A Successful PR Campaign April 19, 2023 No Comments So, you’ve been running a small business for a while now, and you’re wondering, “How can I spice things up and make my brand top-of-mind in Read More » What Is Public Relations, and Why Is It Important for SMEs? April 4, 2023 No Comments Public relations may seem like a redundant move when you’re just starting out in the business world. In fact, some even think PR is no longer relevant Read More »', metadata={'source': 'https://elliotcommunications.com/the-do-or-die-differences-between-public-relations-marketing'}),\n",
       " Document(page_content='Myth-Busting 101: Debunking Popular PR Publicity Myths May 19, 2023 No Comments As a business owner, how do you keep your stakeholders happy, and ensure positive brand perception among your customers? Well, clearly, you’d think the same Read More » Tapping Into Earned Media: 6 Proven Strategies For A Successful PR Campaign April 19, 2023 No Comments So, you’ve been running a small business for a while now, and you’re wondering, “How can I spice things up and make my brand top-of-mind in Read More » What Is Public Relations, and Why Is It Important for SMEs? April 4, 2023 No Comments Public relations may seem like a redundant move when you’re just starting out in the business world. In fact, some even think PR is no longer relevant Read More »', metadata={'source': 'https://elliotcommunications.com/press-release-vs-media-pitch-which-one-is-better/#respond'}),\n",
       " Document(page_content='Skip to content Main Menu Home About Our Services Blog Careers Case Studies Contact Us Subscribe Newsletter Our team of experts are ready to serve you Elliot & Co is the fastest growing PR agency in Singapore and Malaysia. We have also been named as one of the the Top 5 PR Agencies in Singapore. Our world-class team has the trade secrets to tell the stories of our clients, bringing founders and businesses the recognition they deserve. Our Story Elliot & Co is a pioneer in the SME and Start-up PR space. We have seen the need and immense impact that media features can garner for burgeoning businesses and we have developed a PR formula all our own that is tailor made for SMEs and Start-ups. Through engagements for over a 1,000 brands across 3 markets we have garnered some 10,000 media coverage for SMEs and Start-ups. This makes us the experts when it comes to telling the stories of up-and-coming brands from entrepreneuring founders. We are now taking this expertise and paying it forward,', metadata={'source': 'https://elliotcommunications.com/about'}),\n",
       " Document(page_content='for SMEs and Start-ups. This makes us the experts when it comes to telling the stories of up-and-coming brands from entrepreneuring founders. We are now taking this expertise and paying it forward, equipping a new generation of founders and businesses with the key tools to get their own brand ready to be featured in the media. Facebook Instagram Linkedin Copyright © 2023 Elliot Communications Get Answers from Whatsapp', metadata={'source': 'https://elliotcommunications.com/about'}),\n",
       " Document(page_content='Beginner’S Guide On Public Relations for Startups and SMES Leave a Comment / Featured / By Elliot & Co Team Public relations may seem like a redundant move when you’re just starting out in the business world. In fact, some even think PR is no longer relevant Am I At The Right Stage For PR Leave a Comment / Featured / By Elliot & Co Team Is your Business in the right stage for Public Relations? For a lot of businesses around the world, public relations is important. PR is used to: 5 Reasons Why You Need PR for your Business Leave a Comment / Uncategorized / By Elliot & Co Team Is Public Relations essential for businesses of every size? Am I ready for Public Relations at this point of my business? PR IN THE AGE OF SOCIAL MEDIA MARKETING Leave a Comment / Uncategorized / By Elliot & Co Team 80% of businesses die within the first five years of their business as they struggled to build a lasting brand. So what could be the reasons behind the 20% of businesses that managed to stay on top of', metadata={'source': 'https://elliotcommunications.com/2022/12'}),\n",
       " Document(page_content='80% of businesses die within the first five years of their business as they struggled to build a lasting brand. So what could be the reasons behind the 20% of businesses that managed to stay on top of their game in the midst of high competition and other disruption? THE DO OR DIE DIFFERENCES BETWEEN PUBLIC RELATIONS & MARKETING Leave a Comment / Uncategorized / By Elliot & Co Team “What’s the difference between marketing and public relations? Is there a need to separate public relations and marketing departments? Don’t they do the same things?” PRESS RELEASE VS MEDIA PITCH: WHICH ONE IS BETTER? Leave a Comment / Uncategorized / By Elliot & Co Team Press releases and media pitches are essential tools in Public Relations. Both play a different role in the grand scheme of things. If you’re planning for a campaign, you might be torn between utilising a press release or a media pitch to spread the news. To understand which one works better, we first have to understand … PRESS RELEASE VS', metadata={'source': 'https://elliotcommunications.com/2022/12'}),\n",
       " Document(page_content='planning for a campaign, you might be torn between utilising a press release or a media pitch to spread the news. To understand which one works better, we first have to understand … PRESS RELEASE VS MEDIA PITCH: WHICH ONE IS BETTER? Read More » 5 Reasons SMEs Need a Spokesperson to Front Media Interviews Leave a Comment / Uncategorized / By Elliot & Co Team Starting and growing a small business (SME) is such a fulfilling thing! Granted, it takes a lot of hard work, but it’s all worth it in the end. One of the most challenging parts of having an SME is getting people’s attention. That’s why it’s so important to have effective marketing strategies. Marketing Is Not … 5 Reasons SMEs Need a Spokesperson to Front Media Interviews Read More » SO YOU’VE BEEN FEATURED IN THE MEDIA! NOW WHAT? Leave a Comment / Uncategorized / By Elliot & Co Team First of all, congratulations! Having your stories told by the press is an amazing achievement, be it a news outlet …', metadata={'source': 'https://elliotcommunications.com/2022/12'}),\n",
       " Document(page_content='Myth-Busting 101: Debunking Popular PR Publicity Myths May 19, 2023 No Comments As a business owner, how do you keep your stakeholders happy, and ensure positive brand perception among your customers? Well, clearly, you’d think the same Read More » Tapping Into Earned Media: 6 Proven Strategies For A Successful PR Campaign April 19, 2023 No Comments So, you’ve been running a small business for a while now, and you’re wondering, “How can I spice things up and make my brand top-of-mind in Read More » What Is Public Relations, and Why Is It Important for SMEs? April 4, 2023 No Comments Public relations may seem like a redundant move when you’re just starting out in the business world. In fact, some even think PR is no longer relevant Read More »', metadata={'source': 'https://elliotcommunications.com/am-i-at-the-right-stage-for-pr/#respond'}),\n",
       " Document(page_content='Beginner’S Guide On Public Relations for Startups and SMES Leave a Comment / Featured / By Elliot & Co Team Public relations may seem like a redundant move when you’re just starting out in the business world. In fact, some even think PR is no longer relevant Am I At The Right Stage For PR Leave a Comment / Featured / By Elliot & Co Team Is your Business in the right stage for Public Relations? For a lot of businesses around the world, public relations is important. PR is used to: 5 Reasons Why You Need PR for your Business Leave a Comment / Uncategorized / By Elliot & Co Team Is Public Relations essential for businesses of every size? Am I ready for Public Relations at this point of my business? PR IN THE AGE OF SOCIAL MEDIA MARKETING Leave a Comment / Uncategorized / By Elliot & Co Team 80% of businesses die within the first five years of their business as they struggled to build a lasting brand. So what could be the reasons behind the 20% of businesses that managed to stay on top of', metadata={'source': 'https://elliotcommunications.com/2022/12/13'}),\n",
       " Document(page_content='80% of businesses die within the first five years of their business as they struggled to build a lasting brand. So what could be the reasons behind the 20% of businesses that managed to stay on top of their game in the midst of high competition and other disruption? THE DO OR DIE DIFFERENCES BETWEEN PUBLIC RELATIONS & MARKETING Leave a Comment / Uncategorized / By Elliot & Co Team “What’s the difference between marketing and public relations? Is there a need to separate public relations and marketing departments? Don’t they do the same things?” PRESS RELEASE VS MEDIA PITCH: WHICH ONE IS BETTER? Leave a Comment / Uncategorized / By Elliot & Co Team Press releases and media pitches are essential tools in Public Relations. Both play a different role in the grand scheme of things. If you’re planning for a campaign, you might be torn between utilising a press release or a media pitch to spread the news. To understand which one works better, we first have to understand … PRESS RELEASE VS', metadata={'source': 'https://elliotcommunications.com/2022/12/13'}),\n",
       " Document(page_content='planning for a campaign, you might be torn between utilising a press release or a media pitch to spread the news. To understand which one works better, we first have to understand … PRESS RELEASE VS MEDIA PITCH: WHICH ONE IS BETTER? Read More » 5 Reasons SMEs Need a Spokesperson to Front Media Interviews Leave a Comment / Uncategorized / By Elliot & Co Team Starting and growing a small business (SME) is such a fulfilling thing! Granted, it takes a lot of hard work, but it’s all worth it in the end. One of the most challenging parts of having an SME is getting people’s attention. That’s why it’s so important to have effective marketing strategies. Marketing Is Not … 5 Reasons SMEs Need a Spokesperson to Front Media Interviews Read More » SO YOU’VE BEEN FEATURED IN THE MEDIA! NOW WHAT? Leave a Comment / Uncategorized / By Elliot & Co Team First of all, congratulations! Having your stories told by the press is an amazing achievement, be it a news outlet …', metadata={'source': 'https://elliotcommunications.com/2022/12/13'}),\n",
       " Document(page_content='Myth-Busting 101: Debunking Popular PR Publicity Myths May 19, 2023 No Comments As a business owner, how do you keep your stakeholders happy, and ensure positive brand perception among your customers? Well, clearly, you’d think the same Read More » Tapping Into Earned Media: 6 Proven Strategies For A Successful PR Campaign April 19, 2023 No Comments So, you’ve been running a small business for a while now, and you’re wondering, “How can I spice things up and make my brand top-of-mind in Read More » What Is Public Relations, and Why Is It Important for SMEs? April 4, 2023 No Comments Public relations may seem like a redundant move when you’re just starting out in the business world. In fact, some even think PR is no longer relevant Read More »', metadata={'source': 'https://elliotcommunications.com/5-reasons-why-you-need-pr-for-your-business/#respond'}),\n",
       " Document(page_content='Tapping Into Earned Media: 6 Proven Strategies For A Successful PR Campaign Leave a Comment / Uncategorized / By marketing So, you’ve been running a small business for a while now, and you’re wondering, “How can I spice things up and make my brand top-of-mind in this cutthroat world?”. While it is fundamental to have a great product or service, brands need to create a story so captivating that it stops people in their tracks and … Tapping Into Earned Media: 6 Proven Strategies For A Successful PR Campaign Read More » What Is Public Relations, and Why Is It Important for SMEs? Leave a Comment / Featured / By Elliot & Co Team Public relations may seem like a redundant move when you’re just starting out in the business world. In fact, some even think PR is no longer relevant', metadata={'source': 'https://elliotcommunications.com/2023/04'}),\n",
       " Document(page_content='Myth-Busting 101: Debunking Popular PR Publicity Myths May 19, 2023 No Comments As a business owner, how do you keep your stakeholders happy, and ensure positive brand perception among your customers? Well, clearly, you’d think the same Read More » Tapping Into Earned Media: 6 Proven Strategies For A Successful PR Campaign April 19, 2023 No Comments So, you’ve been running a small business for a while now, and you’re wondering, “How can I spice things up and make my brand top-of-mind in Read More » What Is Public Relations, and Why Is It Important for SMEs? April 4, 2023 No Comments Public relations may seem like a redundant move when you’re just starting out in the business world. In fact, some even think PR is no longer relevant Read More »', metadata={'source': 'https://elliotcommunications.com/5-reasons-smes-need-a-spokesperson-to-front-media-interviews/#respond'}),\n",
       " Document(page_content='Myth-Busting 101: Debunking Popular PR Publicity Myths May 19, 2023 No Comments As a business owner, how do you keep your stakeholders happy, and ensure positive brand perception among your customers? Well, clearly, you’d think the same Read More » Tapping Into Earned Media: 6 Proven Strategies For A Successful PR Campaign April 19, 2023 No Comments So, you’ve been running a small business for a while now, and you’re wondering, “How can I spice things up and make my brand top-of-mind in Read More » What Is Public Relations, and Why Is It Important for SMEs? April 4, 2023 No Comments Public relations may seem like a redundant move when you’re just starting out in the business world. In fact, some even think PR is no longer relevant Read More »', metadata={'source': 'https://elliotcommunications.com/what-is-public-relations-and-why-is-it-important-for-smes/#respond'}),\n",
       " Document(page_content='Myth-Busting 101: Debunking Popular PR Publicity Myths May 19, 2023 No Comments As a business owner, how do you keep your stakeholders happy, and ensure positive brand perception among your customers? Well, clearly, you’d think the same Read More » Tapping Into Earned Media: 6 Proven Strategies For A Successful PR Campaign April 19, 2023 No Comments So, you’ve been running a small business for a while now, and you’re wondering, “How can I spice things up and make my brand top-of-mind in Read More » What Is Public Relations, and Why Is It Important for SMEs? April 4, 2023 No Comments Public relations may seem like a redundant move when you’re just starting out in the business world. In fact, some even think PR is no longer relevant Read More »', metadata={'source': 'https://elliotcommunications.com/myth-busting-101-debunking-popular-pr-publicity-myths'}),\n",
       " Document(page_content='Subscribe to our newsletter for more valuable content We will share \"trade secrets\" from the PR industry that have gotten 100% of our clients featured on top media platforms. Subscribe Our Clients Have Been Featured On', metadata={'source': 'https://elliotcommunications.com/subscribe-to-our-newsletter'}),\n",
       " Document(page_content='What Is Public Relations, and Why Is It Important for SMEs? Leave a Comment / Featured / By Elliot & Co Team Public relations may seem like a redundant move when you’re just starting out in the business world. In fact, some even think PR is no longer relevant Beginner’S Guide On Public Relations for Startups and SMES Leave a Comment / Featured / By Elliot & Co Team Public relations may seem like a redundant move when you’re just starting out in the business world. In fact, some even think PR is no longer relevant Am I At The Right Stage For PR Leave a Comment / Featured / By Elliot & Co Team Is your Business in the right stage for Public Relations? For a lot of businesses around the world, public relations is important. PR is used to: 5 Reasons Why You Need PR for your Business Leave a Comment / Uncategorized / By Elliot & Co Team Is Public Relations essential for businesses of every size? Am I ready for Public Relations at this point of my business? PR IN THE AGE OF SOCIAL MEDIA', metadata={'source': 'https://elliotcommunications.com/author/websitebackup2000'}),\n",
       " Document(page_content='a Comment / Uncategorized / By Elliot & Co Team Is Public Relations essential for businesses of every size? Am I ready for Public Relations at this point of my business? PR IN THE AGE OF SOCIAL MEDIA MARKETING Leave a Comment / Uncategorized / By Elliot & Co Team 80% of businesses die within the first five years of their business as they struggled to build a lasting brand. So what could be the reasons behind the 20% of businesses that managed to stay on top of their game in the midst of high competition and other disruption? THE DO OR DIE DIFFERENCES BETWEEN PUBLIC RELATIONS & MARKETING Leave a Comment / Uncategorized / By Elliot & Co Team “What’s the difference between marketing and public relations? Is there a need to separate public relations and marketing departments? Don’t they do the same things?” PRESS RELEASE VS MEDIA PITCH: WHICH ONE IS BETTER? Leave a Comment / Uncategorized / By Elliot & Co Team Press releases and media pitches are essential tools in Public Relations. Both', metadata={'source': 'https://elliotcommunications.com/author/websitebackup2000'}),\n",
       " Document(page_content='same things?” PRESS RELEASE VS MEDIA PITCH: WHICH ONE IS BETTER? Leave a Comment / Uncategorized / By Elliot & Co Team Press releases and media pitches are essential tools in Public Relations. Both play a different role in the grand scheme of things. If you’re planning for a campaign, you might be torn between utilising a press release or a media pitch to spread the news. To understand which one works better, we first have to understand … PRESS RELEASE VS MEDIA PITCH: WHICH ONE IS BETTER? Read More » 5 Reasons SMEs Need a Spokesperson to Front Media Interviews Leave a Comment / Uncategorized / By Elliot & Co Team Starting and growing a small business (SME) is such a fulfilling thing! Granted, it takes a lot of hard work, but it’s all worth it in the end. One of the most challenging parts of having an SME is getting people’s attention. That’s why it’s so important to have effective marketing strategies. Marketing Is Not … 5 Reasons SMEs Need a Spokesperson to Front Media Interviews Read', metadata={'source': 'https://elliotcommunications.com/author/websitebackup2000'}),\n",
       " Document(page_content='having an SME is getting people’s attention. That’s why it’s so important to have effective marketing strategies. Marketing Is Not … 5 Reasons SMEs Need a Spokesperson to Front Media Interviews Read More » SO YOU’VE BEEN FEATURED IN THE MEDIA! NOW WHAT? Leave a Comment / Uncategorized / By Elliot & Co Team First of all, congratulations! Having your stories told by the press is an amazing achievement, be it a news outlet …', metadata={'source': 'https://elliotcommunications.com/author/websitebackup2000'}),\n",
       " Document(page_content='What Is Public Relations, and Why Is It Important for SMEs? Leave a Comment / Featured / By Elliot & Co Team Public relations may seem like a redundant move when you’re just starting out in the business world. In fact, some even think PR is no longer relevant Beginner’S Guide On Public Relations for Startups and SMES Leave a Comment / Featured / By Elliot & Co Team Public relations may seem like a redundant move when you’re just starting out in the business world. In fact, some even think PR is no longer relevant Am I At The Right Stage For PR Leave a Comment / Featured / By Elliot & Co Team Is your Business in the right stage for Public Relations? For a lot of businesses around the world, public relations is important. PR is used to:', metadata={'source': 'https://elliotcommunications.com/category/featured'}),\n",
       " Document(page_content=\"Want Your Business to be Featured in the Media? We Have the Solution For You! We're Experts in Helping Businesses & Founders Secure Media Features on Newspapers, Magazines, TV, Radio and Internet Platforms. Top Public Relations Agency - Trusted By Over 1,000 Clients Since 2017. Get a Quote (Free Download) How to Get Media Coverage Our 8-step media checklist will ensure a prolonged interest from the media towards your business. Through this 8-step Media Attention Checklist™, crafted by an experienced PR team that has created over 8,000 coverage successes for Singapore SMEs. GET THIS FREE CHECKLIST See us in action In this short video, get to see some of the clients we've helped, the results they got, as well as why we're doing this for our beloved SME clients in Singapore. Play Video 2017 Founded Clients Served Media Features Secured Success Rate Successful Case Studies CapitaLand Being one of Asia’s largest diversified real estate, CapitaLand partners with Disney to rejuvenate their\", metadata={'source': 'https://elliotcommunications.com'}),\n",
       " Document(page_content='Founded Clients Served Media Features Secured Success Rate Successful Case Studies CapitaLand Being one of Asia’s largest diversified real estate, CapitaLand partners with Disney to rejuvenate their malls’ lifestyle offerings by curating lifestyle experiences to light up the imagination of shoppers this festive season. This campaign focused on creating excitement towards the Disney-themed celebration “From Our Family To Yours” across 16 CapitaLand malls in Singapore during Christmas 2022 and Chinese New Year 2023. Offering awe-inspiring entertainment and iconic character installations from Disney, Pixar, Star Wars, and Marvel, media, influencers and fans could connect with their favourite characters. Adopting an integrated approach, the Elliot team organised a media and influencer preview event, targeted media pitching, developed media drops and more. With multiple touchpoints in 3 months, the team has secured over 400 mentions on various platforms such as print, broadcast, online, and', metadata={'source': 'https://elliotcommunications.com'}),\n",
       " Document(page_content='event, targeted media pitching, developed media drops and more. With multiple touchpoints in 3 months, the team has secured over 400 mentions on various platforms such as print, broadcast, online, and socials, valued at more than S$2.5 million in PR value. ShopBack Having proliferated from a team of six to over 900 staff, ShopBack has a singular mission: to make the shopping process as rewarding, delightful, and accessible as possible. The Elliot team worked hard to position ShopBack as Asia Pacific’s leading shopping and rewards platform over a three-angle campaign that took Singaporeans for a ride — literally! Right after the platform’s cashless ShopBack Pay feature launched, we pulled a good-natured April Fool’s prank: giving away Land Rovers (or rather, toy models of it). This acted as the springboard for the actual “reveal”, the grand opening of ShopBack’s new headquarters in Pasir Panjang. Securing an impressive 141 pieces of coverage, the brand received love from notable names', metadata={'source': 'https://elliotcommunications.com'}),\n",
       " Document(page_content='as the springboard for the actual “reveal”, the grand opening of ShopBack’s new headquarters in Pasir Panjang. Securing an impressive 141 pieces of coverage, the brand received love from notable names such as Tech in Asia, The Straits Times, Mothership, CNA, Channel 8 and more — garnering a readership total of 2.7 billion over just 5 months. Mölnlycke Mölnlycke, the world-leading medical products and solutions company based in Sweden has its sights set on Malaysia to further its sustainability transformation agenda. Leveraging ongoing conversations on sustainable business practices around the world, we were able to showcase Mölnlycke’s strategic partnerships and centre media attention on the opening launch of its new surgical glove plant in Kulim, Kedah. Our campaign with the Mölnlycke team helped introduce Mölnlycke’s international presence to the Malaysian market, spotlighting the brand’s renewed commitment to helping Malaysia fulfil its sustainable development goals, economic', metadata={'source': 'https://elliotcommunications.com'}),\n",
       " Document(page_content='team helped introduce Mölnlycke’s international presence to the Malaysian market, spotlighting the brand’s renewed commitment to helping Malaysia fulfil its sustainable development goals, economic growth, and infrastructure innovation – all while aiming to reach net zero emissions. The timely and relevant story generated buzz within the local media space, successfully securing 43 coverages with a total of 830 million readers! Mölnlycke was featured on notable media publications in Malaysia, including New Straits Times, Astro Awani, Berita Harian, Utusan Malaysia, and Nanyang Siang Pau. More Case Studies \"Dear Business Owners, we know how powerful it can be for your business to get featured in the newspapers, TV, radio and other media platforms. If you’re ready for customer sales enquiries to skyrocket, and for your brand to be viewed as the industry leader, we want to work with you. Since 2017, I’ve devoted my life to help over 1,000 businesses and founders get their stories featured', metadata={'source': 'https://elliotcommunications.com'}),\n",
       " Document(page_content='to skyrocket, and for your brand to be viewed as the industry leader, we want to work with you. Since 2017, I’ve devoted my life to help over 1,000 businesses and founders get their stories featured in the media. I can help you too.\" Jeremy Jeremy, Founder of Elliot&Co Media platforms we specialize in securing story features. Would you like your business featured there too? Elliot & Co’s founder Jeremy was featured on CNA Luxury. The Royal Singapore, The Straits Times, The Edge Singapore, Telum Media and Everyday People Sign Up for Free 1-to-1 Consultation Some Of Our1000+ Clients The Elliot Experience Here\\'s What Our Clients Have To Say \"Elliot & Co, led by Jeremy and his team are Lincoln Yin CEO, RootAnt Sam Lee Partner & Co-Founder, Paloe \"It\\'s been a Rui Shan Chin Director, Gooberr \"To the team at Elliot Communications: Dalston Pung COO, QIQ Global “The team has been Joeanne Wong General Manager, Can-Care \"We have worked with Elliot & Co. for more than a year. They have a Chang Yi', metadata={'source': 'https://elliotcommunications.com'}),\n",
       " Document(page_content='the team at Elliot Communications: Dalston Pung COO, QIQ Global “The team has been Joeanne Wong General Manager, Can-Care \"We have worked with Elliot & Co. for more than a year. They have a Chang Yi Hern CEO, JomRun Previous image Next image AS FEATURED IN PRWEEK BEST PLACES TO WORK 2022: ASIA-PACIFIC (NOMINATION) Elliot & Co was nominated as one of the top places to work in APAC by PRWeek. PRWeek Top Consultancies 2021: Asia-Pacific Featured on PR Week, Elliot & Co was ranked as one of the top 40 PR agencies in the Asia-Pacific region. Our team of experts are ready to serve you Elliot & Co is the fastest growing PR agency in Singapore and Malaysia. We have also been named as one of the the Top 5 PR Agencies in Singapore. Our world-class team has the trade secrets to tell the stories of our clients, bringing founders and businesses the recognition they deserve. What You\\'ll Get During Your Free 1-to-1 Consultation A deeper understanding on how getting on the media can have a positive', metadata={'source': 'https://elliotcommunications.com'}),\n",
       " Document(page_content=\"our clients, bringing founders and businesses the recognition they deserve. What You'll Get During Your Free 1-to-1 Consultation A deeper understanding on how getting on the media can have a positive effect on your company no matter what industry you are from Specific case studies relevant to your industry to show the power of PR on their brands How the media landscape is like in Singapore, Malaysia and Indonesia; and why your brand has a unique chance to get featured as well Get a No-Obligation Quote. We Will Also Share With You the Secrets to Getting Your Business Featured in the Media. Your Business Name Your Name Your Email Country Contact Number (Optional) When’s a good time for our PR expert to reach you? (Optional) Message Singapore Malaysia Your Business Name Your Name Your Email Country Contact Number (Optional) When’s a good time for our PR expert to reach you? (Optional) Message Δ Your Business Name Your Name Your Email Country Mobile Number (Digits Only) (Optional) When’s a\", metadata={'source': 'https://elliotcommunications.com'}),\n",
       " Document(page_content='Contact Number (Optional) When’s a good time for our PR expert to reach you? (Optional) Message Δ Your Business Name Your Name Your Email Country Mobile Number (Digits Only) (Optional) When’s a good time for our PR expert to reach you? (Optional) Message Δ Malaysia Singapore Malaysia Your Business Name Your Name Your Email Country Mobile Number (Digits Only) (Optional) When’s a good time for our PR expert to reach you? (Optional) Message Singapore Your Business Name Your Name Your Email Country Contact Number (Optional) When’s a good time for our PR expert to reach you? (Optional) Message Elliot & Co is the hero you neeD Get your business the recognition it deserves by reaching out to our team in Singapore, Malaysia or Indonesia today! Singapore Office 3 Shenton Way #24-03 Shenton House Singapore 068805 Contact: jeremy@elliotcommunications.com Whatsapp Malaysia Office Unit 1204, Level 12, Uptown 1. 1 Jalan SS21/58, Damansara Uptown, Damansara Jaya, 47400 Petaling Jaya, Selangor', metadata={'source': 'https://elliotcommunications.com'}),\n",
       " Document(page_content=\"House Singapore 068805 Contact: jeremy@elliotcommunications.com Whatsapp Malaysia Office Unit 1204, Level 12, Uptown 1. 1 Jalan SS21/58, Damansara Uptown, Damansara Jaya, 47400 Petaling Jaya, Selangor Contact: ryan@elliotcommunications.com Whatsapp Indonesia Office Sahid Sudirman Center 23rd Floor, Jl. Jend. Sudirman No.Kav. 86, Jakarta, Daerah Khusus Ibukota Jakarta 10220, Indonesia Contact: ryan@elliotcommunications.com Whatsapp Why Over 1,000 Clients Trust Us A Fuss-free, Stress-free Experience Our easy-to-understand media training comes from our experience as the one of the Largest Number of Media Features Secured for SMEs. 100% Success Rate On Media Coverage Our unique Elliot 8-Step Method™ provides a consistent 100% success rate on story features. Stories That Attract the Media We know the exact story angles that will drive the media into a feeding frenzy. Trust us - we've over 20,000+ successful PR Pitches with the media and we'll devise the right strategy for you. A\", metadata={'source': 'https://elliotcommunications.com'}),\n",
       " Document(page_content=\"Media We know the exact story angles that will drive the media into a feeding frenzy. Trust us - we've over 20,000+ successful PR Pitches with the media and we'll devise the right strategy for you. A Turbocharged Business & Brand Recognition Many of our clients have experienced massive growth in customers and business enquiries after working with us. Why? Because getting featured in the media unlocks instant brand credibility and recognition. We can do that for you too. Our All-In Commitment An experienced PR strategist is exclusively working on your results. Book Your 1-to-1 Free Consultation Now\", metadata={'source': 'https://elliotcommunications.com'}),\n",
       " Document(page_content='Tapping Into Earned Media: 6 Proven Strategies For A Successful PR Campaign Leave a Comment / Uncategorized / By marketing So, you’ve been running a small business for a while now, and you’re wondering, “How can I spice things up and make my brand top-of-mind in this cutthroat world?”. While it is fundamental to have a great product or service, brands need to create a story so captivating that it stops people in their tracks and … Tapping Into Earned Media: 6 Proven Strategies For A Successful PR Campaign Read More »', metadata={'source': 'https://elliotcommunications.com/2023/04/19'}),\n",
       " Document(page_content='Myth-Busting 101: Debunking Popular PR Publicity Myths Leave a Comment / Uncategorized / By marketing As a business owner, how do you keep your stakeholders happy, and ensure positive brand perception among your customers? Well, clearly, you’d think the same way you would in any relationship — clear, effective communication, the best way to foster a healthy relationship! So what we should ask ourselves next is: how do you effectively … Myth-Busting 101: Debunking Popular PR Publicity Myths Read More » Tapping Into Earned Media: 6 Proven Strategies For A Successful PR Campaign Leave a Comment / Uncategorized / By marketing So, you’ve been running a small business for a while now, and you’re wondering, “How can I spice things up and make my brand top-of-mind in this cutthroat world?”. While it is fundamental to have a great product or service, brands need to create a story so captivating that it stops people in their tracks and … Tapping Into Earned Media: 6 Proven Strategies For A', metadata={'source': 'https://elliotcommunications.com/2023'}),\n",
       " Document(page_content='While it is fundamental to have a great product or service, brands need to create a story so captivating that it stops people in their tracks and … Tapping Into Earned Media: 6 Proven Strategies For A Successful PR Campaign Read More » What Is Public Relations, and Why Is It Important for SMEs? Leave a Comment / Featured / By Elliot & Co Team Public relations may seem like a redundant move when you’re just starting out in the business world. In fact, some even think PR is no longer relevant', metadata={'source': 'https://elliotcommunications.com/2023'}),\n",
       " Document(page_content='Myth-Busting 101: Debunking Popular PR Publicity Myths May 19, 2023 No Comments As a business owner, how do you keep your stakeholders happy, and ensure positive brand perception among your customers? Well, clearly, you’d think the same Read More » Tapping Into Earned Media: 6 Proven Strategies For A Successful PR Campaign April 19, 2023 No Comments So, you’ve been running a small business for a while now, and you’re wondering, “How can I spice things up and make my brand top-of-mind in Read More » What Is Public Relations, and Why Is It Important for SMEs? April 4, 2023 No Comments Public relations may seem like a redundant move when you’re just starting out in the business world. In fact, some even think PR is no longer relevant Read More »', metadata={'source': 'https://elliotcommunications.com/beginners-guide-on-public-relations-for-startups-and-smes/#respond'}),\n",
       " Document(page_content='What Is Public Relations, and Why Is It Important for SMEs? Leave a Comment / Featured / By Elliot & Co Team Public relations may seem like a redundant move when you’re just starting out in the business world. In fact, some even think PR is no longer relevant', metadata={'source': 'https://elliotcommunications.com/2023/04/04'}),\n",
       " Document(page_content='Myth-Busting 101: Debunking Popular PR Publicity Myths Leave a Comment / Uncategorized / By marketing As a business owner, how do you keep your stakeholders happy, and ensure positive brand perception among your customers? Well, clearly, you’d think the same way you would in any relationship — clear, effective communication, the best way to foster a healthy relationship! So what we should ask ourselves next is: how do you effectively … Myth-Busting 101: Debunking Popular PR Publicity Myths Read More » Tapping Into Earned Media: 6 Proven Strategies For A Successful PR Campaign Leave a Comment / Uncategorized / By marketing So, you’ve been running a small business for a while now, and you’re wondering, “How can I spice things up and make my brand top-of-mind in this cutthroat world?”. While it is fundamental to have a great product or service, brands need to create a story so captivating that it stops people in their tracks and … Tapping Into Earned Media: 6 Proven Strategies For A', metadata={'source': 'https://elliotcommunications.com/blog-2'}),\n",
       " Document(page_content='While it is fundamental to have a great product or service, brands need to create a story so captivating that it stops people in their tracks and … Tapping Into Earned Media: 6 Proven Strategies For A Successful PR Campaign Read More » What Is Public Relations, and Why Is It Important for SMEs? Leave a Comment / Featured / By Elliot & Co Team Public relations may seem like a redundant move when you’re just starting out in the business world. In fact, some even think PR is no longer relevant Beginner’S Guide On Public Relations for Startups and SMES Leave a Comment / Featured / By Elliot & Co Team Public relations may seem like a redundant move when you’re just starting out in the business world. In fact, some even think PR is no longer relevant Am I At The Right Stage For PR Leave a Comment / Featured / By Elliot & Co Team Is your Business in the right stage for Public Relations? For a lot of businesses around the world, public relations is important. PR is used to: 5 Reasons Why You', metadata={'source': 'https://elliotcommunications.com/blog-2'}),\n",
       " Document(page_content='/ Featured / By Elliot & Co Team Is your Business in the right stage for Public Relations? For a lot of businesses around the world, public relations is important. PR is used to: 5 Reasons Why You Need PR for your Business Leave a Comment / Uncategorized / By Elliot & Co Team Is Public Relations essential for businesses of every size? Am I ready for Public Relations at this point of my business? PR IN THE AGE OF SOCIAL MEDIA MARKETING Leave a Comment / Uncategorized / By Elliot & Co Team 80% of businesses die within the first five years of their business as they struggled to build a lasting brand. So what could be the reasons behind the 20% of businesses that managed to stay on top of their game in the midst of high competition and other disruption? THE DO OR DIE DIFFERENCES BETWEEN PUBLIC RELATIONS & MARKETING Leave a Comment / Uncategorized / By Elliot & Co Team “What’s the difference between marketing and public relations? Is there a need to separate public relations and marketing', metadata={'source': 'https://elliotcommunications.com/blog-2'}),\n",
       " Document(page_content='RELATIONS & MARKETING Leave a Comment / Uncategorized / By Elliot & Co Team “What’s the difference between marketing and public relations? Is there a need to separate public relations and marketing departments? Don’t they do the same things?” PRESS RELEASE VS MEDIA PITCH: WHICH ONE IS BETTER? Leave a Comment / Uncategorized / By Elliot & Co Team Press releases and media pitches are essential tools in Public Relations. Both play a different role in the grand scheme of things. If you’re planning for a campaign, you might be torn between utilising a press release or a media pitch to spread the news. To understand which one works better, we first have to understand … PRESS RELEASE VS MEDIA PITCH: WHICH ONE IS BETTER? Read More » 5 Reasons SMEs Need a Spokesperson to Front Media Interviews Leave a Comment / Uncategorized / By Elliot & Co Team Starting and growing a small business (SME) is such a fulfilling thing! Granted, it takes a lot of hard work, but it’s all worth it in the end. One of', metadata={'source': 'https://elliotcommunications.com/blog-2'}),\n",
       " Document(page_content='a Comment / Uncategorized / By Elliot & Co Team Starting and growing a small business (SME) is such a fulfilling thing! Granted, it takes a lot of hard work, but it’s all worth it in the end. One of the most challenging parts of having an SME is getting people’s attention. That’s why it’s so important to have effective marketing strategies. Marketing Is Not … 5 Reasons SMEs Need a Spokesperson to Front Media Interviews Read More »', metadata={'source': 'https://elliotcommunications.com/blog-2'}),\n",
       " Document(page_content='Myth-Busting 101: Debunking Popular PR Publicity Myths May 19, 2023 No Comments As a business owner, how do you keep your stakeholders happy, and ensure positive brand perception among your customers? Well, clearly, you’d think the same Read More » Tapping Into Earned Media: 6 Proven Strategies For A Successful PR Campaign April 19, 2023 No Comments So, you’ve been running a small business for a while now, and you’re wondering, “How can I spice things up and make my brand top-of-mind in Read More » What Is Public Relations, and Why Is It Important for SMEs? April 4, 2023 No Comments Public relations may seem like a redundant move when you’re just starting out in the business world. In fact, some even think PR is no longer relevant Read More »', metadata={'source': 'https://elliotcommunications.com/pr-in-the-age-of-social-media-marketing/#respond'}),\n",
       " Document(page_content='Myth-Busting 101: Debunking Popular PR Publicity Myths May 19, 2023 No Comments As a business owner, how do you keep your stakeholders happy, and ensure positive brand perception among your customers? Well, clearly, you’d think the same Read More » Tapping Into Earned Media: 6 Proven Strategies For A Successful PR Campaign April 19, 2023 No Comments So, you’ve been running a small business for a while now, and you’re wondering, “How can I spice things up and make my brand top-of-mind in Read More » What Is Public Relations, and Why Is It Important for SMEs? April 4, 2023 No Comments Public relations may seem like a redundant move when you’re just starting out in the business world. In fact, some even think PR is no longer relevant Read More »', metadata={'source': 'https://elliotcommunications.com/so-youve-been-featured-in-the-media-now-what'}),\n",
       " Document(page_content='Myth-Busting 101: Debunking Popular PR Publicity Myths May 19, 2023 No Comments As a business owner, how do you keep your stakeholders happy, and ensure positive brand perception among your customers? Well, clearly, you’d think the same Read More » Tapping Into Earned Media: 6 Proven Strategies For A Successful PR Campaign April 19, 2023 No Comments So, you’ve been running a small business for a while now, and you’re wondering, “How can I spice things up and make my brand top-of-mind in Read More » What Is Public Relations, and Why Is It Important for SMEs? April 4, 2023 No Comments Public relations may seem like a redundant move when you’re just starting out in the business world. In fact, some even think PR is no longer relevant Read More »', metadata={'source': 'https://elliotcommunications.com/5-reasons-smes-need-a-spokesperson-to-front-media-interviews'}),\n",
       " Document(page_content='Public Relations Intern Apply Now Singapore Hybrid We are looking for the next Public Relations intern who relishes being the champion of start-ups and small and medium enterprises. You should: ✔️ Enjoy the challenges of helping your lesser-known clients obtain valuable media attention. ✔️ Have a strong command of the English language and are persuasive, creative, and resourceful. ✔️ Ideally have an interest in public relations and/or the media industry. ✔️ An enthusiasm for entrepreneurship is a strong plus. ✔️ Be a strong self-starter who can work in a highly collaborative and team-oriented environment, but also independently. At Elliot & Co, we operate in a casual office environment but are very serious about producing high-quality work with unparalleled results. You will be expected to be able to hit the ground running managing our fast-growing clientele and will be expected to pitch in where needed across the board. You will be part of a growing team where our individual job', metadata={'source': 'https://elliotcommunications.com/careers/public-relations-intern'}),\n",
       " Document(page_content='to be able to hit the ground running managing our fast-growing clientele and will be expected to pitch in where needed across the board. You will be part of a growing team where our individual job titles mean little, and quality of work means everything. If you’re keen to learn about the Public Relations industry, look forward to the grind with a positive attitude, and want to gain experience working with SMEs & start-ups, then we want you to join us today! Interns who perform well will be considered for conversion to full-time. RESPONSIBILITIES Perform media monitoring and media reporting Development of media lists and facilitation of media opportunities Support consultants with day-to-day account execution, developing clients’ PR plans, strategies and written press releases/pitches When required, support client events for the campaign needs Assist with social media content creation and curation for the company’s various social media channels (Instagram, Facebook, LinkedIn, TikTok,', metadata={'source': 'https://elliotcommunications.com/careers/public-relations-intern'}),\n",
       " Document(page_content='required, support client events for the campaign needs Assist with social media content creation and curation for the company’s various social media channels (Instagram, Facebook, LinkedIn, TikTok, etc.) Assist with planning creative strategies for the company’s digital marketing campaigns WHAT YOU NEED TO BE SUCCESSFUL IN THIS ROLE Multi-tasking skills with a sense of urgency Possess good interpersonal and communication skills, able to interact with employees from all levels Resourceful, meticulous, and independent Able to work independently and in a team, able to influence stakeholders in a cross-functional environment Self-motivated, trustworthy Attention to detail, good organizational/data analytical skills Prior design and copywriting skills will be advantageous Required: – At least 3 months of internship availability, full-time Apply for this Job No file chosen Delete uploaded file No file chosen Delete uploaded file No file chosen Delete uploaded file', metadata={'source': 'https://elliotcommunications.com/careers/public-relations-intern'}),\n",
       " Document(page_content='Skip to content Main Menu Home About Our Services Blog Careers Case Studies Contact Us Subscribe Newsletter Our Services A PR Agency With Top Quality Communication Strategies And Digital Marketing Services At Competitive Prices Drafting of Press Release Trust us with the announcement of your next big corporate milestone or launch. Our team will ensure to translate big ideas into concise, informational, and impactful press releases targeted at your desired stakeholders. Dissemination Elliot & Co. has long-standing relationships with local and regional media and partners with an international newswire agency to get your story out. Our team will identify the right media contacts from thousands of journalists and media in the world as part of your press release distribution strategy – locally, regionally, and internationally. Media on-ground event management Invite the right press down to events and captivate journalists through a well-planned media programmme to best showcase your brand.', metadata={'source': 'https://elliotcommunications.com/ourservices'}),\n",
       " Document(page_content='regionally, and internationally. Media on-ground event management Invite the right press down to events and captivate journalists through a well-planned media programmme to best showcase your brand. Elliot & Co. consultants are trained to support both online and offline activations for your campaign objectives. Press Kit Preparation Too many documents and not enough time? Elliot & Co. is able to audit key documents and develop key messages to highlight the brand’s strengths and unique offerings. Condense core facts about your brand into a succinct and digestible package for the media. Profile Write Up Want to highlight your credentials and major accolades, but not sure how? Elliot & Co. can assist by encapsulating your profile and experience into words that speak volumes. Media Interview Congratulations on getting media attention! Elliot & Co. is able to provide media training to ensure the relevant spokesperson is ready in front of the media and answers questions from the press', metadata={'source': 'https://elliotcommunications.com/ourservices'}),\n",
       " Document(page_content='Congratulations on getting media attention! Elliot & Co. is able to provide media training to ensure the relevant spokesperson is ready in front of the media and answers questions from the press confidently. Media drop & Media Relations Utilize Elliot & Co’s network of media professionals and key opinion leaders when planning for your next media outreach. The team will make connections to the right journalists and influencers to form relationships on behalf of your brand. LinkedIn Profile Branding Prepare your brand and/or spokesperson’s profile on LinkedIn to take on new leads and build connections. LinkedIn is an excellent bridge for brands to get connected to hundreds of potential business partners and customers. Content Write Up (Website/Blog) Storytelling is Elliot & Co. brand’s DNA and specialty. Whether it’s articulating your company’s rich history on your website or commentaries for your next LinkedIn post, Elliot & Co.’s editorial team boasts a portfolio of writing services', metadata={'source': 'https://elliotcommunications.com/ourservices'}),\n",
       " Document(page_content='and specialty. Whether it’s articulating your company’s rich history on your website or commentaries for your next LinkedIn post, Elliot & Co.’s editorial team boasts a portfolio of writing services for the content of various needs. Influencer & KOL Management Expand your media outreach strategy by engaging influencers to attain organic (or paid) reviews. Elliot & Co. will connect your brand with relevant influencers within our database to amplify your brand story at scale and reach millions on social media. Crisis Action Plan & Management Elliot & Co.’s consultants are trained to be ready in unexpected situations. Our services extend to both proactive and reactive course of action when managing a crisis. Retainer PR Service Prefer a partnership that yields long-term results? Elliot & Co. offers retainer options for 6 months, offering a combination of PR strategies that lead to clear and quantifiable results. Facebook Instagram Linkedin-in Copyright © 2023 Elliot Communications Get', metadata={'source': 'https://elliotcommunications.com/ourservices'}),\n",
       " Document(page_content='Co. offers retainer options for 6 months, offering a combination of PR strategies that lead to clear and quantifiable results. Facebook Instagram Linkedin-in Copyright © 2023 Elliot Communications Get Answers from Whatsapp', metadata={'source': 'https://elliotcommunications.com/ourservices'}),\n",
       " Document(page_content='Myth-Busting 101: Debunking Popular PR Publicity Myths May 19, 2023 No Comments As a business owner, how do you keep your stakeholders happy, and ensure positive brand perception among your customers? Well, clearly, you’d think the same Read More » Tapping Into Earned Media: 6 Proven Strategies For A Successful PR Campaign April 19, 2023 No Comments So, you’ve been running a small business for a while now, and you’re wondering, “How can I spice things up and make my brand top-of-mind in Read More » What Is Public Relations, and Why Is It Important for SMEs? April 4, 2023 No Comments Public relations may seem like a redundant move when you’re just starting out in the business world. In fact, some even think PR is no longer relevant Read More »', metadata={'source': 'https://elliotcommunications.com/press-release-vs-media-pitch-which-one-is-better'}),\n",
       " Document(page_content='Myth-Busting 101: Debunking Popular PR Publicity Myths May 19, 2023 No Comments As a business owner, how do you keep your stakeholders happy, and ensure positive brand perception among your customers? Well, clearly, you’d think the same Read More » Tapping Into Earned Media: 6 Proven Strategies For A Successful PR Campaign April 19, 2023 No Comments So, you’ve been running a small business for a while now, and you’re wondering, “How can I spice things up and make my brand top-of-mind in Read More » What Is Public Relations, and Why Is It Important for SMEs? April 4, 2023 No Comments Public relations may seem like a redundant move when you’re just starting out in the business world. In fact, some even think PR is no longer relevant Read More »', metadata={'source': 'https://elliotcommunications.com/the-do-or-die-differences-between-public-relations-marketing/#respond'}),\n",
       " Document(page_content='Senior Public Relations Manager Apply Now Full Time Singapore, Singapore ( Hybrid ) We are looking for a confident and charismatic PR professional who thrives in a fast paced, agile environment and has a knack at handling diverse client situations. We welcome applicants from all industries and all walks of life – if you have prior leadership experience managing a team, we want you. At Elliot & Co, we are proud to be at the forefront of telling the untold stories of the disruptors, the innovators and the changemakers in the startup and SME scene since 2017. It is with this pioneering spirit that has seen us expand from our HQ in Singapore into Malaysia and Indonesia with other countries on the horizon. Additionally, shortlisted as a finalist for PR Week’s Best Places to Work in 2022 for small agencies in APAC, we are constantly building an evolving environment that empowers our best people, with a strong belief in and investment in their growth. You will be managing our fast-growing', metadata={'source': 'https://elliotcommunications.com/careers/senior-public-relations-manager'}),\n",
       " Document(page_content='small agencies in APAC, we are constantly building an evolving environment that empowers our best people, with a strong belief in and investment in their growth. You will be managing our fast-growing team and clientele, leading us to the next level of growth for Elliot & Co. We believe in walking the talk when embodying our Elliot values – Integrity and Accountability, Open Mind and Heart, Ownership, and Constant Innovation. With a vibrant and supportive team, exciting employee benefits and plenty of employee bonding initiatives, join us on this journey and grow with us today! Responsibilities Overseeing the overall account health and supporting the team to increase the overall client happiness/satisfaction. Drive the growth of the PR team, as well as cross-functional business units together with the management. Lead PR subordinates in the consulting & execution of traditional/digital PR campaigns in Singapore. Identify strategic opportunities for agency/team learning and', metadata={'source': 'https://elliotcommunications.com/careers/senior-public-relations-manager'}),\n",
       " Document(page_content='units together with the management. Lead PR subordinates in the consulting & execution of traditional/digital PR campaigns in Singapore. Identify strategic opportunities for agency/team learning and developing/improving strategic company processes, maintaining transparency and streamlined communication. Execution of key accounts & renewal/continuation of client engagements. Build external & internal stakeholder relationships with composure, astuteness, & authenticity. Proactively offer new ideas and opportunities to ensure organisational success Monitor and ensure health of client accounts and quality of press materials Perform other ad-hoc duties Skills, Experiences and Qualifications At least 5 years of relevant experience in Public Relations in Singapore Having experience in lifestyle/tech accounts, and integrated marketing communications is a bonus. Experience leading a team in your current/previous organization, supporting/coaching younger professionals to be their best selves and', metadata={'source': 'https://elliotcommunications.com/careers/senior-public-relations-manager'}),\n",
       " Document(page_content='accounts, and integrated marketing communications is a bonus. Experience leading a team in your current/previous organization, supporting/coaching younger professionals to be their best selves and supporting in building company culture Experience in cross-functional organizational management & business development is valued Proven track record of contributing to the development and execution of strategies for PR teams that drive impact and build brand awareness. Strong time management/organizational skills Significant experience working with different stakeholders (clients, agencies, freelancers) Able to handle a high level of confidentiality, discretion and sensitivity Apply for this Job No file chosen Delete uploaded file No file chosen Delete uploaded file No file chosen Delete uploaded file', metadata={'source': 'https://elliotcommunications.com/careers/senior-public-relations-manager'}),\n",
       " Document(page_content=\"Skip to content Main Menu Home About Our Services Blog Careers Case Studies Contact Us Subscribe Newsletter Home 404 Not Found This page doesn't seem to exist. It looks like the link pointing here was faulty. Maybe try searching? Search for: Copyright © 2023 Elliot Communications\", metadata={'source': 'https://elliotcommunications.com/sg-8-step-checklist-ws'}),\n",
       " Document(page_content=\"Want Your Business to be Featured in the Media? We Have the Solution For You! We're Experts in Helping Businesses & Founders Secure Media Features on Newspapers, Magazines, TV, Radio and Internet Platforms. Top Public Relations Agency - Trusted By Over 1,000 Clients Since 2017. Get a Quote (Free Download) How to Get Media Coverage Our 8-step media checklist will ensure a prolonged interest from the media towards your business. Through this 8-step Media Attention Checklist™, crafted by an experienced PR team that has created over 8,000 coverage successes for Singapore SMEs. GET THIS FREE CHECKLIST See us in action In this short video, get to see some of the clients we've helped, the results they got, as well as why we're doing this for our beloved SME clients in Singapore. Play Video 2017 Founded Clients Served Media Features Secured Success Rate Successful Case Studies CapitaLand Being one of Asia’s largest diversified real estate, CapitaLand partners with Disney to rejuvenate their\", metadata={'source': 'https://elliotcommunications.com/#message'}),\n",
       " Document(page_content='Founded Clients Served Media Features Secured Success Rate Successful Case Studies CapitaLand Being one of Asia’s largest diversified real estate, CapitaLand partners with Disney to rejuvenate their malls’ lifestyle offerings by curating lifestyle experiences to light up the imagination of shoppers this festive season. This campaign focused on creating excitement towards the Disney-themed celebration “From Our Family To Yours” across 16 CapitaLand malls in Singapore during Christmas 2022 and Chinese New Year 2023. Offering awe-inspiring entertainment and iconic character installations from Disney, Pixar, Star Wars, and Marvel, media, influencers and fans could connect with their favourite characters. Adopting an integrated approach, the Elliot team organised a media and influencer preview event, targeted media pitching, developed media drops and more. With multiple touchpoints in 3 months, the team has secured over 400 mentions on various platforms such as print, broadcast, online, and', metadata={'source': 'https://elliotcommunications.com/#message'}),\n",
       " Document(page_content='event, targeted media pitching, developed media drops and more. With multiple touchpoints in 3 months, the team has secured over 400 mentions on various platforms such as print, broadcast, online, and socials, valued at more than S$2.5 million in PR value. ShopBack Having proliferated from a team of six to over 900 staff, ShopBack has a singular mission: to make the shopping process as rewarding, delightful, and accessible as possible. The Elliot team worked hard to position ShopBack as Asia Pacific’s leading shopping and rewards platform over a three-angle campaign that took Singaporeans for a ride — literally! Right after the platform’s cashless ShopBack Pay feature launched, we pulled a good-natured April Fool’s prank: giving away Land Rovers (or rather, toy models of it). This acted as the springboard for the actual “reveal”, the grand opening of ShopBack’s new headquarters in Pasir Panjang. Securing an impressive 141 pieces of coverage, the brand received love from notable names', metadata={'source': 'https://elliotcommunications.com/#message'}),\n",
       " Document(page_content='as the springboard for the actual “reveal”, the grand opening of ShopBack’s new headquarters in Pasir Panjang. Securing an impressive 141 pieces of coverage, the brand received love from notable names such as Tech in Asia, The Straits Times, Mothership, CNA, Channel 8 and more — garnering a readership total of 2.7 billion over just 5 months. Mölnlycke Mölnlycke, the world-leading medical products and solutions company based in Sweden has its sights set on Malaysia to further its sustainability transformation agenda. Leveraging ongoing conversations on sustainable business practices around the world, we were able to showcase Mölnlycke’s strategic partnerships and centre media attention on the opening launch of its new surgical glove plant in Kulim, Kedah. Our campaign with the Mölnlycke team helped introduce Mölnlycke’s international presence to the Malaysian market, spotlighting the brand’s renewed commitment to helping Malaysia fulfil its sustainable development goals, economic', metadata={'source': 'https://elliotcommunications.com/#message'}),\n",
       " Document(page_content='team helped introduce Mölnlycke’s international presence to the Malaysian market, spotlighting the brand’s renewed commitment to helping Malaysia fulfil its sustainable development goals, economic growth, and infrastructure innovation – all while aiming to reach net zero emissions. The timely and relevant story generated buzz within the local media space, successfully securing 43 coverages with a total of 830 million readers! Mölnlycke was featured on notable media publications in Malaysia, including New Straits Times, Astro Awani, Berita Harian, Utusan Malaysia, and Nanyang Siang Pau. More Case Studies \"Dear Business Owners, we know how powerful it can be for your business to get featured in the newspapers, TV, radio and other media platforms. If you’re ready for customer sales enquiries to skyrocket, and for your brand to be viewed as the industry leader, we want to work with you. Since 2017, I’ve devoted my life to help over 1,000 businesses and founders get their stories featured', metadata={'source': 'https://elliotcommunications.com/#message'}),\n",
       " Document(page_content='to skyrocket, and for your brand to be viewed as the industry leader, we want to work with you. Since 2017, I’ve devoted my life to help over 1,000 businesses and founders get their stories featured in the media. I can help you too.\" Jeremy Jeremy, Founder of Elliot&Co Media platforms we specialize in securing story features. Would you like your business featured there too? Elliot & Co’s founder Jeremy was featured on CNA Luxury. The Royal Singapore, The Straits Times, The Edge Singapore, Telum Media and Everyday People Sign Up for Free 1-to-1 Consultation Some Of Our1000+ Clients The Elliot Experience Here\\'s What Our Clients Have To Say \"Elliot & Co, led by Jeremy and his team are Lincoln Yin CEO, RootAnt Sam Lee Partner & Co-Founder, Paloe \"It\\'s been a Rui Shan Chin Director, Gooberr \"To the team at Elliot Communications: Dalston Pung COO, QIQ Global “The team has been Joeanne Wong General Manager, Can-Care \"We have worked with Elliot & Co. for more than a year. They have a Chang Yi', metadata={'source': 'https://elliotcommunications.com/#message'}),\n",
       " Document(page_content='the team at Elliot Communications: Dalston Pung COO, QIQ Global “The team has been Joeanne Wong General Manager, Can-Care \"We have worked with Elliot & Co. for more than a year. They have a Chang Yi Hern CEO, JomRun Previous image Next image AS FEATURED IN PRWEEK BEST PLACES TO WORK 2022: ASIA-PACIFIC (NOMINATION) Elliot & Co was nominated as one of the top places to work in APAC by PRWeek. PRWeek Top Consultancies 2021: Asia-Pacific Featured on PR Week, Elliot & Co was ranked as one of the top 40 PR agencies in the Asia-Pacific region. Our team of experts are ready to serve you Elliot & Co is the fastest growing PR agency in Singapore and Malaysia. We have also been named as one of the the Top 5 PR Agencies in Singapore. Our world-class team has the trade secrets to tell the stories of our clients, bringing founders and businesses the recognition they deserve. What You\\'ll Get During Your Free 1-to-1 Consultation A deeper understanding on how getting on the media can have a positive', metadata={'source': 'https://elliotcommunications.com/#message'}),\n",
       " Document(page_content=\"our clients, bringing founders and businesses the recognition they deserve. What You'll Get During Your Free 1-to-1 Consultation A deeper understanding on how getting on the media can have a positive effect on your company no matter what industry you are from Specific case studies relevant to your industry to show the power of PR on their brands How the media landscape is like in Singapore, Malaysia and Indonesia; and why your brand has a unique chance to get featured as well Get a No-Obligation Quote. We Will Also Share With You the Secrets to Getting Your Business Featured in the Media. Your Business Name Your Name Your Email Country Contact Number (Optional) When’s a good time for our PR expert to reach you? (Optional) Message Singapore Malaysia Your Business Name Your Name Your Email Country Contact Number (Optional) When’s a good time for our PR expert to reach you? (Optional) Message Δ Your Business Name Your Name Your Email Country Mobile Number (Digits Only) (Optional) When’s a\", metadata={'source': 'https://elliotcommunications.com/#message'}),\n",
       " Document(page_content='Contact Number (Optional) When’s a good time for our PR expert to reach you? (Optional) Message Δ Your Business Name Your Name Your Email Country Mobile Number (Digits Only) (Optional) When’s a good time for our PR expert to reach you? (Optional) Message Δ Malaysia Singapore Malaysia Your Business Name Your Name Your Email Country Mobile Number (Digits Only) (Optional) When’s a good time for our PR expert to reach you? (Optional) Message Singapore Your Business Name Your Name Your Email Country Contact Number (Optional) When’s a good time for our PR expert to reach you? (Optional) Message Elliot & Co is the hero you neeD Get your business the recognition it deserves by reaching out to our team in Singapore, Malaysia or Indonesia today! Singapore Office 3 Shenton Way #24-03 Shenton House Singapore 068805 Contact: jeremy@elliotcommunications.com Whatsapp Malaysia Office Unit 1204, Level 12, Uptown 1. 1 Jalan SS21/58, Damansara Uptown, Damansara Jaya, 47400 Petaling Jaya, Selangor', metadata={'source': 'https://elliotcommunications.com/#message'}),\n",
       " Document(page_content=\"House Singapore 068805 Contact: jeremy@elliotcommunications.com Whatsapp Malaysia Office Unit 1204, Level 12, Uptown 1. 1 Jalan SS21/58, Damansara Uptown, Damansara Jaya, 47400 Petaling Jaya, Selangor Contact: ryan@elliotcommunications.com Whatsapp Indonesia Office Sahid Sudirman Center 23rd Floor, Jl. Jend. Sudirman No.Kav. 86, Jakarta, Daerah Khusus Ibukota Jakarta 10220, Indonesia Contact: ryan@elliotcommunications.com Whatsapp Why Over 1,000 Clients Trust Us A Fuss-free, Stress-free Experience Our easy-to-understand media training comes from our experience as the one of the Largest Number of Media Features Secured for SMEs. 100% Success Rate On Media Coverage Our unique Elliot 8-Step Method™ provides a consistent 100% success rate on story features. Stories That Attract the Media We know the exact story angles that will drive the media into a feeding frenzy. Trust us - we've over 20,000+ successful PR Pitches with the media and we'll devise the right strategy for you. A\", metadata={'source': 'https://elliotcommunications.com/#message'}),\n",
       " Document(page_content=\"Media We know the exact story angles that will drive the media into a feeding frenzy. Trust us - we've over 20,000+ successful PR Pitches with the media and we'll devise the right strategy for you. A Turbocharged Business & Brand Recognition Many of our clients have experienced massive growth in customers and business enquiries after working with us. Why? Because getting featured in the media unlocks instant brand credibility and recognition. We can do that for you too. Our All-In Commitment An experienced PR strategist is exclusively working on your results. Book Your 1-to-1 Free Consultation Now\", metadata={'source': 'https://elliotcommunications.com/#message'}),\n",
       " Document(page_content='Myth-Busting 101: Debunking Popular PR Publicity Myths May 19, 2023 No Comments As a business owner, how do you keep your stakeholders happy, and ensure positive brand perception among your customers? Well, clearly, you’d think the same Read More » Tapping Into Earned Media: 6 Proven Strategies For A Successful PR Campaign April 19, 2023 No Comments So, you’ve been running a small business for a while now, and you’re wondering, “How can I spice things up and make my brand top-of-mind in Read More » What Is Public Relations, and Why Is It Important for SMEs? April 4, 2023 No Comments Public relations may seem like a redundant move when you’re just starting out in the business world. In fact, some even think PR is no longer relevant Read More »', metadata={'source': 'https://elliotcommunications.com/tapping-into-earned-media-6-proven-strategies-for-a-successful-pr-campaign'}),\n",
       " Document(page_content='Beginner’S Guide On Public Relations for Startups and SMES Leave a Comment / Featured / By Elliot & Co Team Public relations may seem like a redundant move when you’re just starting out in the business world. In fact, some even think PR is no longer relevant Am I At The Right Stage For PR Leave a Comment / Featured / By Elliot & Co Team Is your Business in the right stage for Public Relations? For a lot of businesses around the world, public relations is important. PR is used to: 5 Reasons Why You Need PR for your Business Leave a Comment / Uncategorized / By Elliot & Co Team Is Public Relations essential for businesses of every size? Am I ready for Public Relations at this point of my business? PR IN THE AGE OF SOCIAL MEDIA MARKETING Leave a Comment / Uncategorized / By Elliot & Co Team 80% of businesses die within the first five years of their business as they struggled to build a lasting brand. So what could be the reasons behind the 20% of businesses that managed to stay on top of', metadata={'source': 'https://elliotcommunications.com/2022'}),\n",
       " Document(page_content='80% of businesses die within the first five years of their business as they struggled to build a lasting brand. So what could be the reasons behind the 20% of businesses that managed to stay on top of their game in the midst of high competition and other disruption? THE DO OR DIE DIFFERENCES BETWEEN PUBLIC RELATIONS & MARKETING Leave a Comment / Uncategorized / By Elliot & Co Team “What’s the difference between marketing and public relations? Is there a need to separate public relations and marketing departments? Don’t they do the same things?” PRESS RELEASE VS MEDIA PITCH: WHICH ONE IS BETTER? Leave a Comment / Uncategorized / By Elliot & Co Team Press releases and media pitches are essential tools in Public Relations. Both play a different role in the grand scheme of things. If you’re planning for a campaign, you might be torn between utilising a press release or a media pitch to spread the news. To understand which one works better, we first have to understand … PRESS RELEASE VS', metadata={'source': 'https://elliotcommunications.com/2022'}),\n",
       " Document(page_content='planning for a campaign, you might be torn between utilising a press release or a media pitch to spread the news. To understand which one works better, we first have to understand … PRESS RELEASE VS MEDIA PITCH: WHICH ONE IS BETTER? Read More » 5 Reasons SMEs Need a Spokesperson to Front Media Interviews Leave a Comment / Uncategorized / By Elliot & Co Team Starting and growing a small business (SME) is such a fulfilling thing! Granted, it takes a lot of hard work, but it’s all worth it in the end. One of the most challenging parts of having an SME is getting people’s attention. That’s why it’s so important to have effective marketing strategies. Marketing Is Not … 5 Reasons SMEs Need a Spokesperson to Front Media Interviews Read More » SO YOU’VE BEEN FEATURED IN THE MEDIA! NOW WHAT? Leave a Comment / Uncategorized / By Elliot & Co Team First of all, congratulations! Having your stories told by the press is an amazing achievement, be it a news outlet …', metadata={'source': 'https://elliotcommunications.com/2022'}),\n",
       " Document(page_content='Myth-Busting 101: Debunking Popular PR Publicity Myths May 19, 2023 No Comments As a business owner, how do you keep your stakeholders happy, and ensure positive brand perception among your customers? Well, clearly, you’d think the same Read More » Tapping Into Earned Media: 6 Proven Strategies For A Successful PR Campaign April 19, 2023 No Comments So, you’ve been running a small business for a while now, and you’re wondering, “How can I spice things up and make my brand top-of-mind in Read More » What Is Public Relations, and Why Is It Important for SMEs? April 4, 2023 No Comments Public relations may seem like a redundant move when you’re just starting out in the business world. In fact, some even think PR is no longer relevant Read More »', metadata={'source': 'https://elliotcommunications.com/5-reasons-why-you-need-pr-for-your-business'}),\n",
       " Document(page_content='Myth-Busting 101: Debunking Popular PR Publicity Myths Leave a Comment / Uncategorized / By marketing As a business owner, how do you keep your stakeholders happy, and ensure positive brand perception among your customers? Well, clearly, you’d think the same way you would in any relationship — clear, effective communication, the best way to foster a healthy relationship! So what we should ask ourselves next is: how do you effectively … Myth-Busting 101: Debunking Popular PR Publicity Myths Read More » Tapping Into Earned Media: 6 Proven Strategies For A Successful PR Campaign Leave a Comment / Uncategorized / By marketing So, you’ve been running a small business for a while now, and you’re wondering, “How can I spice things up and make my brand top-of-mind in this cutthroat world?”. While it is fundamental to have a great product or service, brands need to create a story so captivating that it stops people in their tracks and … Tapping Into Earned Media: 6 Proven Strategies For A', metadata={'source': 'https://elliotcommunications.com/category/uncategorized'}),\n",
       " Document(page_content='While it is fundamental to have a great product or service, brands need to create a story so captivating that it stops people in their tracks and … Tapping Into Earned Media: 6 Proven Strategies For A Successful PR Campaign Read More » 5 Reasons Why You Need PR for your Business Leave a Comment / Uncategorized / By Elliot & Co Team Is Public Relations essential for businesses of every size? Am I ready for Public Relations at this point of my business? PR IN THE AGE OF SOCIAL MEDIA MARKETING Leave a Comment / Uncategorized / By Elliot & Co Team 80% of businesses die within the first five years of their business as they struggled to build a lasting brand. So what could be the reasons behind the 20% of businesses that managed to stay on top of their game in the midst of high competition and other disruption? THE DO OR DIE DIFFERENCES BETWEEN PUBLIC RELATIONS & MARKETING Leave a Comment / Uncategorized / By Elliot & Co Team “What’s the difference between marketing and public relations? Is', metadata={'source': 'https://elliotcommunications.com/category/uncategorized'}),\n",
       " Document(page_content='other disruption? THE DO OR DIE DIFFERENCES BETWEEN PUBLIC RELATIONS & MARKETING Leave a Comment / Uncategorized / By Elliot & Co Team “What’s the difference between marketing and public relations? Is there a need to separate public relations and marketing departments? Don’t they do the same things?” PRESS RELEASE VS MEDIA PITCH: WHICH ONE IS BETTER? Leave a Comment / Uncategorized / By Elliot & Co Team Press releases and media pitches are essential tools in Public Relations. Both play a different role in the grand scheme of things. If you’re planning for a campaign, you might be torn between utilising a press release or a media pitch to spread the news. To understand which one works better, we first have to understand … PRESS RELEASE VS MEDIA PITCH: WHICH ONE IS BETTER? Read More » 5 Reasons SMEs Need a Spokesperson to Front Media Interviews Leave a Comment / Uncategorized / By Elliot & Co Team Starting and growing a small business (SME) is such a fulfilling thing! Granted, it takes a', metadata={'source': 'https://elliotcommunications.com/category/uncategorized'}),\n",
       " Document(page_content='SMEs Need a Spokesperson to Front Media Interviews Leave a Comment / Uncategorized / By Elliot & Co Team Starting and growing a small business (SME) is such a fulfilling thing! Granted, it takes a lot of hard work, but it’s all worth it in the end. One of the most challenging parts of having an SME is getting people’s attention. That’s why it’s so important to have effective marketing strategies. Marketing Is Not … 5 Reasons SMEs Need a Spokesperson to Front Media Interviews Read More » SO YOU’VE BEEN FEATURED IN THE MEDIA! NOW WHAT? Leave a Comment / Uncategorized / By Elliot & Co Team First of all, congratulations! Having your stories told by the press is an amazing achievement, be it a news outlet …', metadata={'source': 'https://elliotcommunications.com/category/uncategorized'}),\n",
       " Document(page_content='SO YOU’VE BEEN FEATURED IN THE MEDIA! NOW WHAT? Leave a Comment / Uncategorized / By Elliot & Co Team First of all, congratulations! Having your stories told by the press is an amazing achievement, be it a news outlet …', metadata={'source': 'https://elliotcommunications.com/blog-2/page/2'}),\n",
       " Document(page_content='Skip to content Main Menu Home About Our Services Blog Careers Case Studies Contact Us Subscribe Newsletter Contact Us Contact Us for a No-Obligation Quote. We Will Also Share With You the Secrets to Getting Your Business Featured in the Media. Your Business Name Your Name Your Email Country Contact Number (Optional) When’s a good time for our PR expert to reach you? (Optional) Message Singapore Malaysia Your Business Name Your Name Your Email Country Contact Number (Optional) When’s a good time for our PR expert to reach you? (Optional) Message Δ Your Business Name Your Name Your Email Country Mobile Number (Digits Only) (Optional) When’s a good time for our PR expert to reach you? (Optional) Message Δ Our Location We currently have offices in Singapore, Malaysia and Indonesia: Facebook Instagram Linkedin Copyright © 2023 Elliot Communications Get Answers from Whatsapp', metadata={'source': 'https://elliotcommunications.com/contact-us'}),\n",
       " Document(page_content='Blog What Is Public Relations, and Why Is It Important for SMEs? Elliot & Co Team April 4, 2023 No Comments Public relations may seem like a redundant move when you’re just starting out in the business world. In fact, some even think PR is no longer relevant ... View More Beginner’S Guide On Public Relations for Startups and SMES Elliot & Co Team December 13, 2022 No Comments Public relations may seem like a redundant move when you’re just starting out in the business world. In fact, some even think PR is no longer relevant ... View More Myth-Busting 101: Debunking Popular PR Publicity Myths As a business owner, how do you keep your stakeholders happy, and ensure positive brand perception among your customers? Well, clearly, you’d think the same Read More » May 19, 2023 No Comments Tapping Into Earned Media: 6 Proven Strategies For A Successful PR Campaign So, you’ve been running a small business for a while now, and you’re wondering, “How can I spice things up and make my brand', metadata={'source': 'https://elliotcommunications.com/blog'}),\n",
       " Document(page_content=\"Tapping Into Earned Media: 6 Proven Strategies For A Successful PR Campaign So, you’ve been running a small business for a while now, and you’re wondering, “How can I spice things up and make my brand top-of-mind in Read More » April 19, 2023 No Comments 5 Reasons Why You Need PR for your Business Is Public Relations essential for businesses of every size? Am I ready for Public Relations at this point of my business? Read More » December 13, 2022 No Comments Follow Us on Instagram elliotcommunications 𝑯𝒐𝒘 𝑻𝒐𝒄𝒄𝒐 𝑻𝒐𝒔𝒄 We're thrilled to welcome our newest team members! Sending warm wishes to our media friends during th Selamat Hari Raya Puasa from Elliot & Co, where we We're thrilled to have hosted another successful n 𝘼𝙨 𝙛𝙚𝙖𝙩𝙪𝙧𝙚𝙙 𝙤𝙣 𝘼𝙨 𝙛𝙚𝙖𝙩𝙪𝙧𝙚𝙙 𝙤𝙣 Hoppy Easter from Elliot & Co.! 🐰🥚🌸 Wheth 𝘼𝙨 𝙛𝙚𝙖𝙩𝙪𝙧𝙚𝙙 𝙤𝙣 Spring has sprung and so have our April birthday c Privileged to be working with @heyheartlands for t It's official – Elliot & Co. is a finalist for t Breaking News! 📣 Our editorial\", metadata={'source': 'https://elliotcommunications.com/blog'}),\n",
       " Document(page_content='𝘼𝙨 𝙛𝙚𝙖𝙩𝙪𝙧𝙚𝙙 𝙤𝙣 Spring has sprung and so have our April birthday c Privileged to be working with @heyheartlands for t It\\'s official – Elliot & Co. is a finalist for t Breaking News! 📣 Our editorial strategist, Chel We are thrilled to announce that Singapura Finance Happy International Women\\'s Day! At Elliot & Co., It\\'s March, and our March-born colleagues are agin 𝘼𝙨 𝙛𝙚𝙖𝙩𝙪𝙧𝙚𝙙 𝙤𝙣 𝘼𝙨 𝙛𝙚𝙖𝙩𝙪𝙧𝙚𝙙 𝙤𝙣 Load More Follow on Instagram Follow Us on Facebook [elfsight_facebook_feed id=\"1\"] Facebook Instagram Linkedin-in What Is Public Relations, and Why Is It Important for SMEs? Elliot & Co Team April 4, 2023 No Comments Public relations may seem like a redundant move when you’re just starting out in the business world. In fact, some even think PR is no longer relevant ... View More Beginner’S Guide On Public Relations for Startups and SMES Elliot & Co Team December 13, 2022 No Comments Public relations may seem like a redundant move when you’re just starting out in the business world. In fact, some', metadata={'source': 'https://elliotcommunications.com/blog'}),\n",
       " Document(page_content='Public Relations for Startups and SMES Elliot & Co Team December 13, 2022 No Comments Public relations may seem like a redundant move when you’re just starting out in the business world. In fact, some even think PR is no longer relevant ... View More Myth-Busting 101: Debunking Popular PR Publicity Myths As a business owner, how do you keep your stakeholders happy, and ensure positive brand perception among your customers? Well, clearly, you’d think the same Read More » May 19, 2023 No Comments Tapping Into Earned Media: 6 Proven Strategies For A Successful PR Campaign So, you’ve been running a small business for a while now, and you’re wondering, “How can I spice things up and make my brand top-of-mind in Read More » April 19, 2023 No Comments 5 Reasons Why You Need PR for your Business Is Public Relations essential for businesses of every size? Am I ready for Public Relations at this point of my business? Read More » December 13, 2022 No Comments', metadata={'source': 'https://elliotcommunications.com/blog'}),\n",
       " Document(page_content='Myth-Busting 101: Debunking Popular PR Publicity Myths May 19, 2023 No Comments As a business owner, how do you keep your stakeholders happy, and ensure positive brand perception among your customers? Well, clearly, you’d think the same Read More » Tapping Into Earned Media: 6 Proven Strategies For A Successful PR Campaign April 19, 2023 No Comments So, you’ve been running a small business for a while now, and you’re wondering, “How can I spice things up and make my brand top-of-mind in Read More » What Is Public Relations, and Why Is It Important for SMEs? April 4, 2023 No Comments Public relations may seem like a redundant move when you’re just starting out in the business world. In fact, some even think PR is no longer relevant Read More »', metadata={'source': 'https://elliotcommunications.com/myth-busting-101-debunking-popular-pr-publicity-myths/#respond'})]"
      ]
     },
     "execution_count": 9,
     "metadata": {},
     "output_type": "execute_result"
    }
   ],
   "source": [
    "data_split"
   ]
  },
  {
   "cell_type": "code",
   "execution_count": 10,
   "metadata": {},
   "outputs": [
    {
     "name": "stderr",
     "output_type": "stream",
     "text": [
      "Using embedded DuckDB with persistence: data will be stored in: db\n"
     ]
    }
   ],
   "source": [
    "# # Define embedding model\n",
    "# OPENAI_API_KEY = os.getenv(\"OPENAI_API_KEY\")\n",
    "# embeddings = OpenAIEmbeddings(openai_api_key=OPENAI_API_KEY)\n",
    "\n",
    "# store = Chroma.from_documents(\n",
    "#     data_split, embeddings, collection_name=\"ecm\", persist_directory=\"db\"\n",
    "# )\n",
    "\n",
    "# store.persist()\n",
    "# store = None"
   ]
  },
  {
   "attachments": {},
   "cell_type": "markdown",
   "metadata": {},
   "source": [
    "### Chroma DB persisted"
   ]
  },
  {
   "cell_type": "code",
   "execution_count": 11,
   "metadata": {},
   "outputs": [
    {
     "name": "stderr",
     "output_type": "stream",
     "text": [
      "Using embedded DuckDB with persistence: data will be stored in: db\n"
     ]
    },
    {
     "data": {
      "text/plain": [
       "Collection(name=ecm)"
      ]
     },
     "execution_count": 11,
     "metadata": {},
     "output_type": "execute_result"
    }
   ],
   "source": [
    "# Define embedding model\n",
    "OPENAI_API_KEY = os.getenv(\"OPENAI_API_KEY\")\n",
    "embeddings = OpenAIEmbeddings(openai_api_key=OPENAI_API_KEY)\n",
    "store = Chroma(\n",
    "    collection_name=\"ecm\", persist_directory=\"db\", embedding_function=embeddings\n",
    ")\n",
    "store._collection"
   ]
  },
  {
   "cell_type": "code",
   "execution_count": 12,
   "metadata": {},
   "outputs": [],
   "source": [
    "llm = ChatOpenAI(\n",
    "    model_name=\"gpt-3.5-turbo\",\n",
    "    temperature=0,\n",
    "    openai_api_key=OPENAI_API_KEY,\n",
    "    max_tokens=512,\n",
    ")"
   ]
  },
  {
   "cell_type": "code",
   "execution_count": 35,
   "metadata": {},
   "outputs": [],
   "source": [
    "sales_template = \"\"\"\n",
    "As a customer marketing bot, your goal is to provide accurate and helpful information about Elliot & Co.\n",
    "You should answer user inquiries based on the context provided and avoid making up answers.\n",
    "If you don't know the answer, simply state that you don't know.\n",
    "Remember to provide relevant information about how Elliot & Co can assist the user through its services, strengths and benefits.\n",
    "\n",
    "{context}\n",
    "=========\n",
    "Question: {question}\n",
    "\"\"\"\n",
    "\n",
    "SALES_PROMPT = PromptTemplate(\n",
    "    template=sales_template, input_variables=[\"context\", \"question\"]\n",
    ")\n",
    "\n",
    "sales_qa = RetrievalQA.from_chain_type(\n",
    "    llm=llm,\n",
    "    chain_type=\"stuff\",\n",
    "    retriever=store.as_retriever(),\n",
    "    chain_type_kwargs={\"prompt\": SALES_PROMPT},\n",
    ")"
   ]
  },
  {
   "cell_type": "code",
   "execution_count": 15,
   "metadata": {},
   "outputs": [
    {
     "name": "stdout",
     "output_type": "stream",
     "text": [
      "Elliot & Co. is a public relations agency that helps businesses and founders secure media features on newspapers, magazines, TV, radio, and internet platforms. They offer retainer options for 6 months, providing a combination of PR strategies that lead to clear and quantifiable results. Their goal is to drive actionable change and ensure people have access to modern solutions.\n"
     ]
    }
   ],
   "source": [
    "print(sales_qa.run(\"What does the company do?\"))"
   ]
  },
  {
   "cell_type": "code",
   "execution_count": 16,
   "metadata": {},
   "outputs": [
    {
     "name": "stdout",
     "output_type": "stream",
     "text": [
      "Answer: Retainer options for 6 months means that Elliot & Co. offers a partnership for a period of 6 months, where they provide a combination of PR strategies that lead to clear and quantifiable results. This is a long-term commitment that aims to achieve specific goals and objectives for the client.\n"
     ]
    }
   ],
   "source": [
    "print(sales_qa.run(\"What does retainer options for 6 months mean?\"))"
   ]
  },
  {
   "cell_type": "code",
   "execution_count": 17,
   "metadata": {},
   "outputs": [
    {
     "name": "stdout",
     "output_type": "stream",
     "text": [
      "Elliot & Co has several success stories, including helping Mölnlycke introduce its international presence to the Malaysian market, securing 43 coverages with a total of 830 million readers. They also helped Primech gain prominence in the cleaning industry through compelling stories about their founder, employees, and core beliefs. Additionally, Elliot & Co established GTRIIP as a forerunner in the contactless hotel check-in scene, with 18 media features and counting.\n"
     ]
    }
   ],
   "source": [
    "print(sales_qa.run(\"What are some of the company's success stories?\"))"
   ]
  },
  {
   "cell_type": "code",
   "execution_count": 18,
   "metadata": {},
   "outputs": [
    {
     "name": "stdout",
     "output_type": "stream",
     "text": [
      "Answer: You can get in contact with Elliot&Co by filling out the contact form on their website, which includes your business name, name, email, country, and optional contact number and message. You can also reach out to their team in Singapore, Malaysia, or Indonesia through their office addresses and email addresses provided on their website.\n"
     ]
    }
   ],
   "source": [
    "print(sales_qa.run(\"How do I get in contect?\"))  # purposely mispelled"
   ]
  },
  {
   "cell_type": "code",
   "execution_count": 21,
   "metadata": {},
   "outputs": [
    {
     "name": "stdout",
     "output_type": "stream",
     "text": [
      "As an AI language model, I cannot access the link to the contact form as it is not provided in the given context. However, you can visit the Elliot&Co website to access the contact form or reach out to their team in Singapore, Malaysia or Indonesia through the contact information provided on their website.\n"
     ]
    }
   ],
   "source": [
    "print(sales_qa.run(\"Can I get the link to the contact form?\"))"
   ]
  },
  {
   "cell_type": "code",
   "execution_count": 22,
   "metadata": {},
   "outputs": [
    {
     "name": "stdout",
     "output_type": "stream",
     "text": [
      "Yes, you can contact Elliot & Co through the contact form on their website or through the email addresses provided for each office location. You can also provide your contact number for a PR expert to reach you at a convenient time.\n"
     ]
    }
   ],
   "source": [
    "print(sales_qa.run(\"Any number I can call or email I can send?\"))"
   ]
  },
  {
   "cell_type": "code",
   "execution_count": 36,
   "metadata": {},
   "outputs": [
    {
     "name": "stdout",
     "output_type": "stream",
     "text": [
      "Elliot&Co can assist your company by providing PR and media coverage to help increase your brand's visibility and credibility. Our team of experts can help craft compelling stories about your chatbot service and pitch them to relevant media outlets. This can help attract more customers and increase your company's revenue. Additionally, we can also provide consultation on how to effectively communicate your chatbot's unique features and benefits to potential customers. Contact us for a no-obligation quote and to learn more about how we can help your company.\n"
     ]
    }
   ],
   "source": [
    "print(\n",
    "    sales_qa.run(\n",
    "        \"I am a company that provides a chatbot as a service. How can you help?\"\n",
    "    )\n",
    ")"
   ]
  },
  {
   "cell_type": "code",
   "execution_count": 77,
   "metadata": {},
   "outputs": [],
   "source": [
    "result = sales_qa(\n",
    "    \"I am a company that provides a chatbot as a service. How can you help?\"\n",
    ")"
   ]
  },
  {
   "cell_type": "code",
   "execution_count": 80,
   "metadata": {},
   "outputs": [
    {
     "data": {
      "text/markdown": [
       "Elliot&Co can assist your company by providing PR and media coverage to help increase your brand's visibility and credibility. Our team of experts can help craft compelling stories about your chatbot service and pitch them to relevant media outlets. This can help attract more customers and increase your company's revenue. Additionally, we can also provide consultation on how to effectively communicate your chatbot's unique features and benefits to potential customers. Contact us for a no-obligation quote and to learn more about how we can help your company."
      ],
      "text/plain": [
       "<IPython.core.display.Markdown object>"
      ]
     },
     "metadata": {},
     "output_type": "display_data"
    }
   ],
   "source": [
    "display(Markdown(result[\"result\"]))"
   ]
  },
  {
   "attachments": {},
   "cell_type": "markdown",
   "metadata": {},
   "source": [
    "### `RetrievalQAWithSourcesChain` (The answers aren't that good compared to the above method)"
   ]
  },
  {
   "cell_type": "code",
   "execution_count": 68,
   "metadata": {},
   "outputs": [],
   "source": [
    "from langchain.prompts.chat import (\n",
    "    ChatPromptTemplate,\n",
    "    SystemMessagePromptTemplate,\n",
    "    HumanMessagePromptTemplate,\n",
    ")\n",
    "\n",
    "\n",
    "system_template = \"\"\"\n",
    "As a customer marketing bot, your goal is to provide accurate and helpful information about Elliot & Co.\n",
    "You should answer user inquiries based on the context provided and avoid making up answers.\n",
    "If you don't know the answer, simply state that you don't know.\n",
    "Remember to provide relevant information about how Elliot & Co can assist the user through its services, strengths and benefits.\n",
    "\n",
    "{context}\n",
    "=========\n",
    "Question: {question}\n",
    "\"\"\"\n",
    "\n",
    "messages = [\n",
    "    SystemMessagePromptTemplate.from_template(system_template),\n",
    "    HumanMessagePromptTemplate.from_template(\"{question}\"),\n",
    "]\n",
    "prompt = ChatPromptTemplate.from_messages(messages)"
   ]
  },
  {
   "cell_type": "code",
   "execution_count": 82,
   "metadata": {},
   "outputs": [],
   "source": [
    "from langchain.chains import RetrievalQAWithSourcesChain\n",
    "\n",
    "chain = RetrievalQAWithSourcesChain.from_chain_type(\n",
    "    llm=llm,\n",
    "    chain_type=\"stuff\",\n",
    "    retriever=store.as_retriever(),\n",
    "    return_source_documents=True,\n",
    ")"
   ]
  },
  {
   "cell_type": "code",
   "execution_count": 60,
   "metadata": {},
   "outputs": [],
   "source": [
    "from IPython.display import display, Markdown\n",
    "\n",
    "\n",
    "def print_result(query, result):\n",
    "    output_text = f\"\"\"### Question:\\n{query}\\n### Answer:\\n{result['answer']}\\n### Sources:\\n{result['sources']}\n",
    "    \"\"\"\n",
    "    display(Markdown(output_text))"
   ]
  },
  {
   "cell_type": "code",
   "execution_count": null,
   "metadata": {},
   "outputs": [],
   "source": [
    "query = \"What is this company?\"\n",
    "result = chain(query)"
   ]
  },
  {
   "cell_type": "code",
   "execution_count": 61,
   "metadata": {},
   "outputs": [
    {
     "data": {
      "text/markdown": [
       "### Question:\n",
       "What is this company?\n",
       "### Answer:\n",
       "Elliot Communications is a PR agency that specializes in telling the stories of up-and-coming brands from entrepreneuring founders. They offer PR strategies and services for SMEs and start-ups, and have been recognized as one of the top places to work in APAC by PRWeek. They have a team of experts in Singapore and Malaysia who are ready to serve their clients. They offer retainer options for 6 months, offering a combination of PR strategies that lead to clear and quantifiable results.\n",
       "\n",
       "### Sources:\n",
       "https://elliotcommunications.com/about, https://elliotcommunications.com, https://elliotcommunications.com/#message, https://elliotcommunications.com/ourservices\n",
       "    "
      ],
      "text/plain": [
       "<IPython.core.display.Markdown object>"
      ]
     },
     "metadata": {},
     "output_type": "display_data"
    }
   ],
   "source": [
    "print_result(query, result)"
   ]
  },
  {
   "cell_type": "code",
   "execution_count": 62,
   "metadata": {},
   "outputs": [
    {
     "data": {
      "text/markdown": [
       "### Question:\n",
       "What does retainer options for 6 months mean?\n",
       "### Answer:\n",
       "Retainer options for 6 months refer to a partnership that yields long-term results, offering a combination of PR strategies that lead to clear and quantifiable results.\n",
       "\n",
       "### Sources:\n",
       "https://elliotcommunications.com/ourservices\n",
       "    "
      ],
      "text/plain": [
       "<IPython.core.display.Markdown object>"
      ]
     },
     "metadata": {},
     "output_type": "display_data"
    }
   ],
   "source": [
    "query = \"What does retainer options for 6 months mean?\"\n",
    "result = chain(query)\n",
    "print_result(query, result)"
   ]
  },
  {
   "cell_type": "code",
   "execution_count": 74,
   "metadata": {},
   "outputs": [
    {
     "data": {
      "text/markdown": [
       "### Question:\n",
       "I am a company that provides a chatbot as a service. How can you help?\n",
       "### Answer:\n",
       "Elliot Communications can help by equipping a new generation of founders and businesses with the key tools to get their own brand ready to be featured in the media. They offer services for SMEs and start-ups and have expertise in telling the stories of up-and-coming brands from entrepreneuring founders. They also offer a free consultation for getting your business featured in the media. To inquire about their services, you can contact them through their website. They also have a job opening for a business development intern. \n",
       "\n",
       "### Sources:\n",
       "https://elliotcommunications.com/about, https://elliotcommunications.com/contact-us, https://elliotcommunications.com/case-studies, https://elliotcommunications.com/careers/business-development-intern\n",
       "    "
      ],
      "text/plain": [
       "<IPython.core.display.Markdown object>"
      ]
     },
     "metadata": {},
     "output_type": "display_data"
    }
   ],
   "source": [
    "query = \"I am a company that provides a chatbot as a service. How can you help?\"\n",
    "result = chain(query)\n",
    "print_result(query, result)"
   ]
  },
  {
   "cell_type": "code",
   "execution_count": null,
   "metadata": {},
   "outputs": [],
   "source": []
  }
 ],
 "metadata": {
  "kernelspec": {
   "display_name": "langchain",
   "language": "python",
   "name": "python3"
  },
  "language_info": {
   "codemirror_mode": {
    "name": "ipython",
    "version": 3
   },
   "file_extension": ".py",
   "mimetype": "text/x-python",
   "name": "python",
   "nbconvert_exporter": "python",
   "pygments_lexer": "ipython3",
   "version": "3.10.10"
  },
  "orig_nbformat": 4
 },
 "nbformat": 4,
 "nbformat_minor": 2
}
